{
 "cells": [
  {
   "cell_type": "code",
   "execution_count": 1,
   "metadata": {},
   "outputs": [
    {
     "data": {
      "text/html": [
       "<style>.container { width:90% !important; }</style>"
      ],
      "text/plain": [
       "<IPython.core.display.HTML object>"
      ]
     },
     "metadata": {},
     "output_type": "display_data"
    }
   ],
   "source": [
    "from IPython.core.display import display, HTML\n",
    "display(HTML(\"<style>.container { width:90% !important; }</style>\"))"
   ]
  },
  {
   "cell_type": "markdown",
   "metadata": {},
   "source": [
    "## Chapter 6 Decision Trees\n",
    "#### created on 2022-03-14"
   ]
  },
  {
   "cell_type": "code",
   "execution_count": 9,
   "metadata": {},
   "outputs": [],
   "source": [
    "import numpy as np\n",
    "import scipy as sp\n",
    "import seaborn as sns\n",
    "from matplotlib import pyplot as plt\n",
    "from matplotlib.colors import ListedColormap\n",
    "from sklearn import datasets\n",
    "from sklearn.tree import DecisionTreeClassifier\n",
    "from sklearn.tree import export_graphviz\n",
    "import graphviz"
   ]
  },
  {
   "cell_type": "code",
   "execution_count": 3,
   "metadata": {},
   "outputs": [
    {
     "data": {
      "text/plain": [
       "['sepal length (cm)',\n",
       " 'sepal width (cm)',\n",
       " 'petal length (cm)',\n",
       " 'petal width (cm)']"
      ]
     },
     "execution_count": 3,
     "metadata": {},
     "output_type": "execute_result"
    }
   ],
   "source": [
    "iris = datasets.load_iris()\n",
    "iris['feature_names']"
   ]
  },
  {
   "cell_type": "code",
   "execution_count": 13,
   "metadata": {},
   "outputs": [
    {
     "data": {
      "text/plain": [
       "array(['setosa', 'versicolor', 'virginica'], dtype='<U10')"
      ]
     },
     "execution_count": 13,
     "metadata": {},
     "output_type": "execute_result"
    }
   ],
   "source": [
    "iris['target_names']"
   ]
  },
  {
   "cell_type": "code",
   "execution_count": 5,
   "metadata": {},
   "outputs": [],
   "source": [
    "X=iris.data[:,2:]\n",
    "y=iris.target"
   ]
  },
  {
   "cell_type": "code",
   "execution_count": 14,
   "metadata": {},
   "outputs": [
    {
     "data": {
      "text/plain": [
       "<matplotlib.legend.Legend at 0x7f8239f2b110>"
      ]
     },
     "execution_count": 14,
     "metadata": {},
     "output_type": "execute_result"
    },
    {
     "data": {
      "image/png": "[encoded data removed]",
      "text/plain": [
       "<Figure size 432x288 with 1 Axes>"
      ]
     },
     "metadata": {
      "needs_background": "light"
     },
     "output_type": "display_data"
    }
   ],
   "source": [
    "plt.scatter(X[y==0][:,0],X[y==0][:,1],marker = \"o\",color=\"red\",label = \"setosa\")\n",
    "plt.scatter(X[y==1][:,0],X[y==1][:,1],marker = \"s\",color='blue',label =\"versicolor\")\n",
    "plt.scatter(X[y==2][:,0],X[y==2][:,1],marker = \"^\",color='green',label =\"virginica\")\n",
    "plt.xlabel(\"petal length(cm)\")\n",
    "plt.ylabel(\"petal width(cm)\")\n",
    "plt.legend()"
   ]
  },
  {
   "cell_type": "code",
   "execution_count": 15,
   "metadata": {},
   "outputs": [
    {
     "data": {
      "text/plain": [
       "DecisionTreeClassifier(max_depth=2)"
      ]
     },
     "execution_count": 15,
     "metadata": {},
     "output_type": "execute_result"
    }
   ],
   "source": [
    "tree_clf = DecisionTreeClassifier(max_depth = 2)\n",
    "tree_clf.fit(X,y)"
   ]
  },
  {
   "cell_type": "code",
   "execution_count": 17,
   "metadata": {},
   "outputs": [
    {
     "data": {
      "image/svg+xml": [
       "<?xml version=\"1.0\" encoding=\"UTF-8\" standalone=\"no\"?>\n",
       "<!DOCTYPE svg PUBLIC \"-//W3C//DTD SVG 1.1//EN\"\n",
       " \"http://www.w3.org/Graphics/SVG/1.1/DTD/svg11.dtd\">\n",
       "<!-- Generated by graphviz version 2.40.1 (20161225.0304)\n",
       " -->\n",
       "<!-- Title: Tree Pages: 1 -->\n",
       "<svg width=\"360pt\" height=\"314pt\"\n",
       " viewBox=\"0.00 0.00 360.00 314.00\" xmlns=\"http://www.w3.org/2000/svg\" xmlns:xlink=\"http://www.w3.org/1999/xlink\">\n",
       "<g id=\"graph0\" class=\"graph\" transform=\"scale(1 1) rotate(0) translate(4 310)\">\n",
       "<title>Tree</title>\n",
       "<polygon fill=\"#ffffff\" stroke=\"transparent\" points=\"-4,4 -4,-310 356,-310 356,4 -4,4\"/>\n",
       "<!-- 0 -->\n",
       "<g id=\"node1\" class=\"node\">\n",
       "<title>0</title>\n",
       "<path fill=\"#ffffff\" stroke=\"#000000\" d=\"M208.5,-306C208.5,-306 73.5,-306 73.5,-306 67.5,-306 61.5,-300 61.5,-294 61.5,-294 61.5,-235 61.5,-235 61.5,-229 67.5,-223 73.5,-223 73.5,-223 208.5,-223 208.5,-223 214.5,-223 220.5,-229 220.5,-235 220.5,-235 220.5,-294 220.5,-294 220.5,-300 214.5,-306 208.5,-306\"/>\n",
       "<text text-anchor=\"middle\" x=\"141\" y=\"-290.8\" font-family=\"Helvetica,sans-Serif\" font-size=\"14.00\" fill=\"#000000\">petal width (cm) &lt;= 0.8</text>\n",
       "<text text-anchor=\"middle\" x=\"141\" y=\"-275.8\" font-family=\"Helvetica,sans-Serif\" font-size=\"14.00\" fill=\"#000000\">gini = 0.667</text>\n",
       "<text text-anchor=\"middle\" x=\"141\" y=\"-260.8\" font-family=\"Helvetica,sans-Serif\" font-size=\"14.00\" fill=\"#000000\">samples = 150</text>\n",
       "<text text-anchor=\"middle\" x=\"141\" y=\"-245.8\" font-family=\"Helvetica,sans-Serif\" font-size=\"14.00\" fill=\"#000000\">value = [50, 50, 50]</text>\n",
       "<text text-anchor=\"middle\" x=\"141\" y=\"-230.8\" font-family=\"Helvetica,sans-Serif\" font-size=\"14.00\" fill=\"#000000\">class = setosa</text>\n",
       "</g>\n",
       "<!-- 1 -->\n",
       "<g id=\"node2\" class=\"node\">\n",
       "<title>1</title>\n",
       "<path fill=\"#e58139\" stroke=\"#000000\" d=\"M108,-179.5C108,-179.5 12,-179.5 12,-179.5 6,-179.5 0,-173.5 0,-167.5 0,-167.5 0,-123.5 0,-123.5 0,-117.5 6,-111.5 12,-111.5 12,-111.5 108,-111.5 108,-111.5 114,-111.5 120,-117.5 120,-123.5 120,-123.5 120,-167.5 120,-167.5 120,-173.5 114,-179.5 108,-179.5\"/>\n",
       "<text text-anchor=\"middle\" x=\"60\" y=\"-164.3\" font-family=\"Helvetica,sans-Serif\" font-size=\"14.00\" fill=\"#000000\">gini = 0.0</text>\n",
       "<text text-anchor=\"middle\" x=\"60\" y=\"-149.3\" font-family=\"Helvetica,sans-Serif\" font-size=\"14.00\" fill=\"#000000\">samples = 50</text>\n",
       "<text text-anchor=\"middle\" x=\"60\" y=\"-134.3\" font-family=\"Helvetica,sans-Serif\" font-size=\"14.00\" fill=\"#000000\">value = [50, 0, 0]</text>\n",
       "<text text-anchor=\"middle\" x=\"60\" y=\"-119.3\" font-family=\"Helvetica,sans-Serif\" font-size=\"14.00\" fill=\"#000000\">class = setosa</text>\n",
       "</g>\n",
       "<!-- 0&#45;&gt;1 -->\n",
       "<g id=\"edge1\" class=\"edge\">\n",
       "<title>0&#45;&gt;1</title>\n",
       "<path fill=\"none\" stroke=\"#000000\" d=\"M112.6701,-222.8796C105.0357,-211.6636 96.7652,-199.5131 89.0901,-188.2372\"/>\n",
       "<polygon fill=\"#000000\" stroke=\"#000000\" points=\"91.8775,-186.1122 83.3572,-179.8149 86.0908,-190.0511 91.8775,-186.1122\"/>\n",
       "<text text-anchor=\"middle\" x=\"78.6907\" y=\"-200.6755\" font-family=\"Helvetica,sans-Serif\" font-size=\"14.00\" fill=\"#000000\">True</text>\n",
       "</g>\n",
       "<!-- 2 -->\n",
       "<g id=\"node3\" class=\"node\">\n",
       "<title>2</title>\n",
       "<path fill=\"#ffffff\" stroke=\"#000000\" d=\"M293.5,-187C293.5,-187 150.5,-187 150.5,-187 144.5,-187 138.5,-181 138.5,-175 138.5,-175 138.5,-116 138.5,-116 138.5,-110 144.5,-104 150.5,-104 150.5,-104 293.5,-104 293.5,-104 299.5,-104 305.5,-110 305.5,-116 305.5,-116 305.5,-175 305.5,-175 305.5,-181 299.5,-187 293.5,-187\"/>\n",
       "<text text-anchor=\"middle\" x=\"222\" y=\"-171.8\" font-family=\"Helvetica,sans-Serif\" font-size=\"14.00\" fill=\"#000000\">petal width (cm) &lt;= 1.75</text>\n",
       "<text text-anchor=\"middle\" x=\"222\" y=\"-156.8\" font-family=\"Helvetica,sans-Serif\" font-size=\"14.00\" fill=\"#000000\">gini = 0.5</text>\n",
       "<text text-anchor=\"middle\" x=\"222\" y=\"-141.8\" font-family=\"Helvetica,sans-Serif\" font-size=\"14.00\" fill=\"#000000\">samples = 100</text>\n",
       "<text text-anchor=\"middle\" x=\"222\" y=\"-126.8\" font-family=\"Helvetica,sans-Serif\" font-size=\"14.00\" fill=\"#000000\">value = [0, 50, 50]</text>\n",
       "<text text-anchor=\"middle\" x=\"222\" y=\"-111.8\" font-family=\"Helvetica,sans-Serif\" font-size=\"14.00\" fill=\"#000000\">class = versicolor</text>\n",
       "</g>\n",
       "<!-- 0&#45;&gt;2 -->\n",
       "<g id=\"edge2\" class=\"edge\">\n",
       "<title>0&#45;&gt;2</title>\n",
       "<path fill=\"none\" stroke=\"#000000\" d=\"M169.3299,-222.8796C175.2763,-214.1434 181.6086,-204.8404 187.745,-195.8253\"/>\n",
       "<polygon fill=\"#000000\" stroke=\"#000000\" points=\"190.8156,-197.5342 193.5492,-187.2981 185.0289,-193.5953 190.8156,-197.5342\"/>\n",
       "<text text-anchor=\"middle\" x=\"198.2157\" y=\"-208.1587\" font-family=\"Helvetica,sans-Serif\" font-size=\"14.00\" fill=\"#000000\">False</text>\n",
       "</g>\n",
       "<!-- 3 -->\n",
       "<g id=\"node4\" class=\"node\">\n",
       "<title>3</title>\n",
       "<path fill=\"#4de88e\" stroke=\"#000000\" d=\"M202,-68C202,-68 102,-68 102,-68 96,-68 90,-62 90,-56 90,-56 90,-12 90,-12 90,-6 96,0 102,0 102,0 202,0 202,0 208,0 214,-6 214,-12 214,-12 214,-56 214,-56 214,-62 208,-68 202,-68\"/>\n",
       "<text text-anchor=\"middle\" x=\"152\" y=\"-52.8\" font-family=\"Helvetica,sans-Serif\" font-size=\"14.00\" fill=\"#000000\">gini = 0.168</text>\n",
       "<text text-anchor=\"middle\" x=\"152\" y=\"-37.8\" font-family=\"Helvetica,sans-Serif\" font-size=\"14.00\" fill=\"#000000\">samples = 54</text>\n",
       "<text text-anchor=\"middle\" x=\"152\" y=\"-22.8\" font-family=\"Helvetica,sans-Serif\" font-size=\"14.00\" fill=\"#000000\">value = [0, 49, 5]</text>\n",
       "<text text-anchor=\"middle\" x=\"152\" y=\"-7.8\" font-family=\"Helvetica,sans-Serif\" font-size=\"14.00\" fill=\"#000000\">class = versicolor</text>\n",
       "</g>\n",
       "<!-- 2&#45;&gt;3 -->\n",
       "<g id=\"edge3\" class=\"edge\">\n",
       "<title>2&#45;&gt;3</title>\n",
       "<path fill=\"none\" stroke=\"#000000\" d=\"M195.9346,-103.9815C190.3955,-95.1585 184.5364,-85.8258 178.9645,-76.9506\"/>\n",
       "<polygon fill=\"#000000\" stroke=\"#000000\" points=\"181.7922,-74.872 173.5108,-68.2637 175.8637,-78.594 181.7922,-74.872\"/>\n",
       "</g>\n",
       "<!-- 4 -->\n",
       "<g id=\"node5\" class=\"node\">\n",
       "<title>4</title>\n",
       "<path fill=\"#843de6\" stroke=\"#000000\" d=\"M340,-68C340,-68 244,-68 244,-68 238,-68 232,-62 232,-56 232,-56 232,-12 232,-12 232,-6 238,0 244,0 244,0 340,0 340,0 346,0 352,-6 352,-12 352,-12 352,-56 352,-56 352,-62 346,-68 340,-68\"/>\n",
       "<text text-anchor=\"middle\" x=\"292\" y=\"-52.8\" font-family=\"Helvetica,sans-Serif\" font-size=\"14.00\" fill=\"#000000\">gini = 0.043</text>\n",
       "<text text-anchor=\"middle\" x=\"292\" y=\"-37.8\" font-family=\"Helvetica,sans-Serif\" font-size=\"14.00\" fill=\"#000000\">samples = 46</text>\n",
       "<text text-anchor=\"middle\" x=\"292\" y=\"-22.8\" font-family=\"Helvetica,sans-Serif\" font-size=\"14.00\" fill=\"#000000\">value = [0, 1, 45]</text>\n",
       "<text text-anchor=\"middle\" x=\"292\" y=\"-7.8\" font-family=\"Helvetica,sans-Serif\" font-size=\"14.00\" fill=\"#000000\">class = virginica</text>\n",
       "</g>\n",
       "<!-- 2&#45;&gt;4 -->\n",
       "<g id=\"edge4\" class=\"edge\">\n",
       "<title>2&#45;&gt;4</title>\n",
       "<path fill=\"none\" stroke=\"#000000\" d=\"M248.0654,-103.9815C253.6045,-95.1585 259.4636,-85.8258 265.0355,-76.9506\"/>\n",
       "<polygon fill=\"#000000\" stroke=\"#000000\" points=\"268.1363,-78.594 270.4892,-68.2637 262.2078,-74.872 268.1363,-78.594\"/>\n",
       "</g>\n",
       "</g>\n",
       "</svg>\n"
      ],
      "text/plain": [
       "<graphviz.sources.Source at 0x7f823a883c50>"
      ]
     },
     "execution_count": 17,
     "metadata": {},
     "output_type": "execute_result"
    }
   ],
   "source": [
    "dot_data = export_graphviz(tree_clf, out_file = None,feature_names=iris.feature_names[2:],class_names = iris.target_names,\n",
    "                rounded = True, filled=True)\n",
    "\n",
    "graph = graphviz.Source(dot_data)\n",
    "graph"
   ]
  },
  {
   "cell_type": "markdown",
   "metadata": {},
   "source": [
    "## Exercise 7 & 8\n",
    "#### Train and fine tune a Decision Tree"
   ]
  },
  {
   "cell_type": "code",
   "execution_count": 110,
   "metadata": {},
   "outputs": [],
   "source": [
    "from sklearn.datasets import make_moons\n",
    "from sklearn.preprocessing import StandardScaler\n",
    "from sklearn.model_selection import train_test_split, GridSearchCV, cross_val_score\n",
    "from sklearn.metrics import mean_squared_error, accuracy_score, confusion_matrix, classification_report"
   ]
  },
  {
   "cell_type": "code",
   "execution_count": 46,
   "metadata": {},
   "outputs": [
    {
     "data": {
      "text/plain": [
       "Text(0.5, 1.0, 'Data')"
      ]
     },
     "execution_count": 46,
     "metadata": {},
     "output_type": "execute_result"
    },
    {
     "data": {
      "image/png": "[encoded data removed]",
      "text/plain": [
       "<Figure size 432x288 with 1 Axes>"
      ]
     },
     "metadata": {
      "needs_background": "light"
     },
     "output_type": "display_data"
    }
   ],
   "source": [
    "X, y = make_moons(noise=0.4, random_state=1, n_samples=10000)\n",
    "sns.scatterplot(\n",
    "    x=X[:, 0], y=X[:, 1], hue=y, marker=\"o\", s=25, edgecolor=\"k\",\n",
    ").set_title(\"Data\")"
   ]
  },
  {
   "cell_type": "code",
   "execution_count": 108,
   "metadata": {},
   "outputs": [
    {
     "data": {
      "text/plain": [
       "(0.5009054831581842,\n",
       " 0.9594798372984037,\n",
       " 0.2521690487610654,\n",
       " 0.6335427547154089)"
      ]
     },
     "execution_count": 108,
     "metadata": {},
     "output_type": "execute_result"
    }
   ],
   "source": [
    "X[:,0].mean(), X[:,0].std(),X[:,1].mean(), X[:,1].std()"
   ]
  },
  {
   "cell_type": "code",
   "execution_count": 111,
   "metadata": {},
   "outputs": [],
   "source": [
    "scaler = StandardScaler()\n",
    "scaler.fit(X)\n",
    "Xstd = scaler.transform(X)"
   ]
  },
  {
   "cell_type": "code",
   "execution_count": 114,
   "metadata": {},
   "outputs": [
    {
     "data": {
      "text/plain": [
       "(3.001687787218543e-15,\n",
       " 0.9999999999999992,\n",
       " -3.064215547965432e-16,\n",
       " 1.0000000000000009)"
      ]
     },
     "execution_count": 114,
     "metadata": {},
     "output_type": "execute_result"
    }
   ],
   "source": [
    "Xstd[:,0].mean(),Xstd[:,0].std(),Xstd[:,1].mean(),Xstd[:,1].std()"
   ]
  },
  {
   "cell_type": "code",
   "execution_count": 115,
   "metadata": {},
   "outputs": [],
   "source": [
    "X_train, X_test, y_train, y_test = train_test_split(Xstd, y, test_size=0.2, random_state=42)"
   ]
  },
  {
   "cell_type": "code",
   "execution_count": 116,
   "metadata": {},
   "outputs": [
    {
     "data": {
      "text/plain": [
       "DecisionTreeClassifier(max_leaf_nodes=5)"
      ]
     },
     "execution_count": 116,
     "metadata": {},
     "output_type": "execute_result"
    }
   ],
   "source": [
    "tree_clf =DecisionTreeClassifier(max_leaf_nodes = 5)\n",
    "tree_clf.fit(X,y)"
   ]
  },
  {
   "cell_type": "code",
   "execution_count": 117,
   "metadata": {},
   "outputs": [],
   "source": [
    "y_predict = tree_clf.predict(X)"
   ]
  },
  {
   "cell_type": "code",
   "execution_count": 118,
   "metadata": {},
   "outputs": [
    {
     "name": "stdout",
     "output_type": "stream",
     "text": [
      "Accuracy Score: 0.8508\n",
      "Confusion Matrix:\n",
      " [[4348  840]\n",
      " [ 652 4160]]\n"
     ]
    }
   ],
   "source": [
    "cm = confusion_matrix(y_predict,y)\n",
    "print(\"Accuracy Score:\", accuracy_score(y_predict,y))\n",
    "print(\"Confusion Matrix:\\n\", cm)"
   ]
  },
  {
   "cell_type": "code",
   "execution_count": 119,
   "metadata": {},
   "outputs": [],
   "source": [
    "scores = cross_val_score(tree_clf,X,y, scoring = \"accuracy\",cv=5)"
   ]
  },
  {
   "cell_type": "code",
   "execution_count": 120,
   "metadata": {},
   "outputs": [
    {
     "data": {
      "text/plain": [
       "(0.8488, 0.00536283507111678)"
      ]
     },
     "execution_count": 120,
     "metadata": {},
     "output_type": "execute_result"
    }
   ],
   "source": [
    "(scores.mean(), scores.std())"
   ]
  },
  {
   "cell_type": "code",
   "execution_count": 129,
   "metadata": {},
   "outputs": [],
   "source": [
    "param_grid=[{'max_leaf_nodes':list(range(2,31)),'min_samples_split':[2,3,4,5,6]}]"
   ]
  },
  {
   "cell_type": "code",
   "execution_count": 130,
   "metadata": {},
   "outputs": [
    {
     "data": {
      "text/plain": [
       "GridSearchCV(cv=5, estimator=DecisionTreeClassifier(max_leaf_nodes=5),\n",
       "             param_grid=[{'max_leaf_nodes': [2, 3, 4, 5, 6, 7, 8, 9, 10, 11, 12,\n",
       "                                             13, 14, 15, 16, 17, 18, 19, 20, 21,\n",
       "                                             22, 23, 24, 25, 26, 27, 28, 29,\n",
       "                                             30],\n",
       "                          'min_samples_split': [2, 3, 4, 5, 6]}],\n",
       "             scoring='accuracy')"
      ]
     },
     "execution_count": 130,
     "metadata": {},
     "output_type": "execute_result"
    }
   ],
   "source": [
    "grid_search =GridSearchCV(tree_clf, param_grid, cv=5, scoring = 'accuracy')\n",
    "grid_search.fit(X_train,y_train)"
   ]
  },
  {
   "cell_type": "code",
   "execution_count": 131,
   "metadata": {},
   "outputs": [
    {
     "data": {
      "text/plain": [
       "DecisionTreeClassifier(max_leaf_nodes=14)"
      ]
     },
     "execution_count": 131,
     "metadata": {},
     "output_type": "execute_result"
    }
   ],
   "source": [
    "grid_search.best_estimator_"
   ]
  },
  {
   "cell_type": "code",
   "execution_count": 132,
   "metadata": {
    "scrolled": true
   },
   "outputs": [
    {
     "name": "stdout",
     "output_type": "stream",
     "text": [
      "0.759625 {'max_leaf_nodes': 2, 'min_samples_split': 2}\n",
      "0.759625 {'max_leaf_nodes': 2, 'min_samples_split': 3}\n",
      "0.759625 {'max_leaf_nodes': 2, 'min_samples_split': 4}\n",
      "0.759625 {'max_leaf_nodes': 2, 'min_samples_split': 5}\n",
      "0.759625 {'max_leaf_nodes': 2, 'min_samples_split': 6}\n",
      "0.8074999999999999 {'max_leaf_nodes': 3, 'min_samples_split': 2}\n",
      "0.8074999999999999 {'max_leaf_nodes': 3, 'min_samples_split': 3}\n",
      "0.8074999999999999 {'max_leaf_nodes': 3, 'min_samples_split': 4}\n",
      "0.8074999999999999 {'max_leaf_nodes': 3, 'min_samples_split': 5}\n",
      "0.8074999999999999 {'max_leaf_nodes': 3, 'min_samples_split': 6}\n",
      "0.84475 {'max_leaf_nodes': 4, 'min_samples_split': 2}\n",
      "0.84475 {'max_leaf_nodes': 4, 'min_samples_split': 3}\n",
      "0.84475 {'max_leaf_nodes': 4, 'min_samples_split': 4}\n",
      "0.84475 {'max_leaf_nodes': 4, 'min_samples_split': 5}\n",
      "0.84475 {'max_leaf_nodes': 4, 'min_samples_split': 6}\n",
      "0.84475 {'max_leaf_nodes': 5, 'min_samples_split': 2}\n",
      "0.84475 {'max_leaf_nodes': 5, 'min_samples_split': 3}\n",
      "0.84475 {'max_leaf_nodes': 5, 'min_samples_split': 4}\n",
      "0.84475 {'max_leaf_nodes': 5, 'min_samples_split': 5}\n",
      "0.84475 {'max_leaf_nodes': 5, 'min_samples_split': 6}\n",
      "0.84475 {'max_leaf_nodes': 6, 'min_samples_split': 2}\n",
      "0.84475 {'max_leaf_nodes': 6, 'min_samples_split': 3}\n",
      "0.84475 {'max_leaf_nodes': 6, 'min_samples_split': 4}\n",
      "0.84475 {'max_leaf_nodes': 6, 'min_samples_split': 5}\n",
      "0.84475 {'max_leaf_nodes': 6, 'min_samples_split': 6}\n",
      "0.84475 {'max_leaf_nodes': 7, 'min_samples_split': 2}\n",
      "0.84475 {'max_leaf_nodes': 7, 'min_samples_split': 3}\n",
      "0.84475 {'max_leaf_nodes': 7, 'min_samples_split': 4}\n",
      "0.84475 {'max_leaf_nodes': 7, 'min_samples_split': 5}\n",
      "0.84475 {'max_leaf_nodes': 7, 'min_samples_split': 6}\n",
      "0.84475 {'max_leaf_nodes': 8, 'min_samples_split': 2}\n",
      "0.84475 {'max_leaf_nodes': 8, 'min_samples_split': 3}\n",
      "0.84475 {'max_leaf_nodes': 8, 'min_samples_split': 4}\n",
      "0.84475 {'max_leaf_nodes': 8, 'min_samples_split': 5}\n",
      "0.84475 {'max_leaf_nodes': 8, 'min_samples_split': 6}\n",
      "0.8470000000000001 {'max_leaf_nodes': 9, 'min_samples_split': 2}\n",
      "0.8470000000000001 {'max_leaf_nodes': 9, 'min_samples_split': 3}\n",
      "0.8470000000000001 {'max_leaf_nodes': 9, 'min_samples_split': 4}\n",
      "0.8470000000000001 {'max_leaf_nodes': 9, 'min_samples_split': 5}\n",
      "0.8470000000000001 {'max_leaf_nodes': 9, 'min_samples_split': 6}\n",
      "0.8525 {'max_leaf_nodes': 10, 'min_samples_split': 2}\n",
      "0.8525 {'max_leaf_nodes': 10, 'min_samples_split': 3}\n",
      "0.8525 {'max_leaf_nodes': 10, 'min_samples_split': 4}\n",
      "0.8525 {'max_leaf_nodes': 10, 'min_samples_split': 5}\n",
      "0.8525 {'max_leaf_nodes': 10, 'min_samples_split': 6}\n",
      "0.853875 {'max_leaf_nodes': 11, 'min_samples_split': 2}\n",
      "0.853875 {'max_leaf_nodes': 11, 'min_samples_split': 3}\n",
      "0.853875 {'max_leaf_nodes': 11, 'min_samples_split': 4}\n",
      "0.853875 {'max_leaf_nodes': 11, 'min_samples_split': 5}\n",
      "0.853875 {'max_leaf_nodes': 11, 'min_samples_split': 6}\n",
      "0.853875 {'max_leaf_nodes': 12, 'min_samples_split': 2}\n",
      "0.853875 {'max_leaf_nodes': 12, 'min_samples_split': 3}\n",
      "0.853875 {'max_leaf_nodes': 12, 'min_samples_split': 4}\n",
      "0.853875 {'max_leaf_nodes': 12, 'min_samples_split': 5}\n",
      "0.853875 {'max_leaf_nodes': 12, 'min_samples_split': 6}\n",
      "0.853875 {'max_leaf_nodes': 13, 'min_samples_split': 2}\n",
      "0.853875 {'max_leaf_nodes': 13, 'min_samples_split': 3}\n",
      "0.853875 {'max_leaf_nodes': 13, 'min_samples_split': 4}\n",
      "0.853875 {'max_leaf_nodes': 13, 'min_samples_split': 5}\n",
      "0.853875 {'max_leaf_nodes': 13, 'min_samples_split': 6}\n",
      "0.8542499999999998 {'max_leaf_nodes': 14, 'min_samples_split': 2}\n",
      "0.8542499999999998 {'max_leaf_nodes': 14, 'min_samples_split': 3}\n",
      "0.8542499999999998 {'max_leaf_nodes': 14, 'min_samples_split': 4}\n",
      "0.8542499999999998 {'max_leaf_nodes': 14, 'min_samples_split': 5}\n",
      "0.8542499999999998 {'max_leaf_nodes': 14, 'min_samples_split': 6}\n",
      "0.853875 {'max_leaf_nodes': 15, 'min_samples_split': 2}\n",
      "0.853875 {'max_leaf_nodes': 15, 'min_samples_split': 3}\n",
      "0.853875 {'max_leaf_nodes': 15, 'min_samples_split': 4}\n",
      "0.853875 {'max_leaf_nodes': 15, 'min_samples_split': 5}\n",
      "0.853875 {'max_leaf_nodes': 15, 'min_samples_split': 6}\n",
      "0.853 {'max_leaf_nodes': 16, 'min_samples_split': 2}\n",
      "0.853 {'max_leaf_nodes': 16, 'min_samples_split': 3}\n",
      "0.853 {'max_leaf_nodes': 16, 'min_samples_split': 4}\n",
      "0.853 {'max_leaf_nodes': 16, 'min_samples_split': 5}\n",
      "0.853 {'max_leaf_nodes': 16, 'min_samples_split': 6}\n",
      "0.853125 {'max_leaf_nodes': 17, 'min_samples_split': 2}\n",
      "0.853125 {'max_leaf_nodes': 17, 'min_samples_split': 3}\n",
      "0.853125 {'max_leaf_nodes': 17, 'min_samples_split': 4}\n",
      "0.853125 {'max_leaf_nodes': 17, 'min_samples_split': 5}\n",
      "0.853125 {'max_leaf_nodes': 17, 'min_samples_split': 6}\n",
      "0.852375 {'max_leaf_nodes': 18, 'min_samples_split': 2}\n",
      "0.852375 {'max_leaf_nodes': 18, 'min_samples_split': 3}\n",
      "0.852375 {'max_leaf_nodes': 18, 'min_samples_split': 4}\n",
      "0.852375 {'max_leaf_nodes': 18, 'min_samples_split': 5}\n",
      "0.852375 {'max_leaf_nodes': 18, 'min_samples_split': 6}\n",
      "0.852375 {'max_leaf_nodes': 19, 'min_samples_split': 2}\n",
      "0.852375 {'max_leaf_nodes': 19, 'min_samples_split': 3}\n",
      "0.852375 {'max_leaf_nodes': 19, 'min_samples_split': 4}\n",
      "0.852375 {'max_leaf_nodes': 19, 'min_samples_split': 5}\n",
      "0.852375 {'max_leaf_nodes': 19, 'min_samples_split': 6}\n",
      "0.8517499999999998 {'max_leaf_nodes': 20, 'min_samples_split': 2}\n",
      "0.8517499999999998 {'max_leaf_nodes': 20, 'min_samples_split': 3}\n",
      "0.8517499999999998 {'max_leaf_nodes': 20, 'min_samples_split': 4}\n",
      "0.8517499999999998 {'max_leaf_nodes': 20, 'min_samples_split': 5}\n",
      "0.8517499999999998 {'max_leaf_nodes': 20, 'min_samples_split': 6}\n",
      "0.851375 {'max_leaf_nodes': 21, 'min_samples_split': 2}\n",
      "0.851375 {'max_leaf_nodes': 21, 'min_samples_split': 3}\n",
      "0.851375 {'max_leaf_nodes': 21, 'min_samples_split': 4}\n",
      "0.851375 {'max_leaf_nodes': 21, 'min_samples_split': 5}\n",
      "0.851375 {'max_leaf_nodes': 21, 'min_samples_split': 6}\n",
      "0.851375 {'max_leaf_nodes': 22, 'min_samples_split': 2}\n",
      "0.851375 {'max_leaf_nodes': 22, 'min_samples_split': 3}\n",
      "0.851375 {'max_leaf_nodes': 22, 'min_samples_split': 4}\n",
      "0.851375 {'max_leaf_nodes': 22, 'min_samples_split': 5}\n",
      "0.851375 {'max_leaf_nodes': 22, 'min_samples_split': 6}\n",
      "0.853 {'max_leaf_nodes': 23, 'min_samples_split': 2}\n",
      "0.853 {'max_leaf_nodes': 23, 'min_samples_split': 3}\n",
      "0.853 {'max_leaf_nodes': 23, 'min_samples_split': 4}\n",
      "0.853 {'max_leaf_nodes': 23, 'min_samples_split': 5}\n",
      "0.853 {'max_leaf_nodes': 23, 'min_samples_split': 6}\n",
      "0.853 {'max_leaf_nodes': 24, 'min_samples_split': 2}\n",
      "0.853 {'max_leaf_nodes': 24, 'min_samples_split': 3}\n",
      "0.853 {'max_leaf_nodes': 24, 'min_samples_split': 4}\n",
      "0.853 {'max_leaf_nodes': 24, 'min_samples_split': 5}\n",
      "0.853 {'max_leaf_nodes': 24, 'min_samples_split': 6}\n",
      "0.851375 {'max_leaf_nodes': 25, 'min_samples_split': 2}\n",
      "0.851375 {'max_leaf_nodes': 25, 'min_samples_split': 3}\n",
      "0.851375 {'max_leaf_nodes': 25, 'min_samples_split': 4}\n",
      "0.851375 {'max_leaf_nodes': 25, 'min_samples_split': 5}\n",
      "0.851375 {'max_leaf_nodes': 25, 'min_samples_split': 6}\n",
      "0.85125 {'max_leaf_nodes': 26, 'min_samples_split': 2}\n",
      "0.85125 {'max_leaf_nodes': 26, 'min_samples_split': 3}\n",
      "0.85125 {'max_leaf_nodes': 26, 'min_samples_split': 4}\n",
      "0.85125 {'max_leaf_nodes': 26, 'min_samples_split': 5}\n",
      "0.85125 {'max_leaf_nodes': 26, 'min_samples_split': 6}\n",
      "0.851125 {'max_leaf_nodes': 27, 'min_samples_split': 2}\n",
      "0.851125 {'max_leaf_nodes': 27, 'min_samples_split': 3}\n",
      "0.851125 {'max_leaf_nodes': 27, 'min_samples_split': 4}\n",
      "0.851125 {'max_leaf_nodes': 27, 'min_samples_split': 5}\n",
      "0.851125 {'max_leaf_nodes': 27, 'min_samples_split': 6}\n",
      "0.8508749999999999 {'max_leaf_nodes': 28, 'min_samples_split': 2}\n",
      "0.8508749999999999 {'max_leaf_nodes': 28, 'min_samples_split': 3}\n",
      "0.8508749999999999 {'max_leaf_nodes': 28, 'min_samples_split': 4}\n",
      "0.8508749999999999 {'max_leaf_nodes': 28, 'min_samples_split': 5}\n",
      "0.8508749999999999 {'max_leaf_nodes': 28, 'min_samples_split': 6}\n",
      "0.8506250000000002 {'max_leaf_nodes': 29, 'min_samples_split': 2}\n",
      "0.8506250000000002 {'max_leaf_nodes': 29, 'min_samples_split': 3}\n",
      "0.8506250000000002 {'max_leaf_nodes': 29, 'min_samples_split': 4}\n",
      "0.8506250000000002 {'max_leaf_nodes': 29, 'min_samples_split': 5}\n",
      "0.8506250000000002 {'max_leaf_nodes': 29, 'min_samples_split': 6}\n",
      "0.851125 {'max_leaf_nodes': 30, 'min_samples_split': 2}\n",
      "0.850625 {'max_leaf_nodes': 30, 'min_samples_split': 3}\n",
      "0.851125 {'max_leaf_nodes': 30, 'min_samples_split': 4}\n",
      "0.851125 {'max_leaf_nodes': 30, 'min_samples_split': 5}\n",
      "0.851125 {'max_leaf_nodes': 30, 'min_samples_split': 6}\n"
     ]
    }
   ],
   "source": [
    "curves = grid_search.cv_results_\n",
    "for mean_score, params in zip(curves['mean_test_score'],curves['params']):\n",
    "    print(mean_score,params)"
   ]
  },
  {
   "cell_type": "code",
   "execution_count": 133,
   "metadata": {},
   "outputs": [],
   "source": [
    "final_model = grid_search.best_estimator_"
   ]
  },
  {
   "cell_type": "code",
   "execution_count": 134,
   "metadata": {},
   "outputs": [],
   "source": [
    "y_train_predict = final_model.predict(X_train)\n",
    "y_test_predict = final_model.predict(X_test)"
   ]
  },
  {
   "cell_type": "code",
   "execution_count": 135,
   "metadata": {},
   "outputs": [
    {
     "data": {
      "text/plain": [
       "(0.858, 0.857)"
      ]
     },
     "execution_count": 135,
     "metadata": {},
     "output_type": "execute_result"
    }
   ],
   "source": [
    "accuracy_score(y_train,y_train_predict), accuracy_score(y_test,y_test_predict)"
   ]
  },
  {
   "cell_type": "code",
   "execution_count": 136,
   "metadata": {
    "scrolled": true
   },
   "outputs": [
    {
     "data": {
      "image/svg+xml": [
       "<?xml version=\"1.0\" encoding=\"UTF-8\" standalone=\"no\"?>\n",
       "<!DOCTYPE svg PUBLIC \"-//W3C//DTD SVG 1.1//EN\"\n",
       " \"http://www.w3.org/Graphics/SVG/1.1/DTD/svg11.dtd\">\n",
       "<!-- Generated by graphviz version 2.40.1 (20161225.0304)\n",
       " -->\n",
       "<!-- Title: Tree Pages: 1 -->\n",
       "<svg width=\"1060pt\" height=\"790pt\"\n",
       " viewBox=\"0.00 0.00 1060.00 790.00\" xmlns=\"http://www.w3.org/2000/svg\" xmlns:xlink=\"http://www.w3.org/1999/xlink\">\n",
       "<g id=\"graph0\" class=\"graph\" transform=\"scale(1 1) rotate(0) translate(4 786)\">\n",
       "<title>Tree</title>\n",
       "<polygon fill=\"#ffffff\" stroke=\"transparent\" points=\"-4,4 -4,-786 1056,-786 1056,4 -4,4\"/>\n",
       "<!-- 0 -->\n",
       "<g id=\"node1\" class=\"node\">\n",
       "<title>0</title>\n",
       "<path fill=\"#fffefd\" stroke=\"#000000\" d=\"M486,-782C486,-782 366,-782 366,-782 360,-782 354,-776 354,-770 354,-770 354,-711 354,-711 354,-705 360,-699 366,-699 366,-699 486,-699 486,-699 492,-699 498,-705 498,-711 498,-711 498,-770 498,-770 498,-776 492,-782 486,-782\"/>\n",
       "<text text-anchor=\"middle\" x=\"426\" y=\"-766.8\" font-family=\"Helvetica,sans-Serif\" font-size=\"14.00\" fill=\"#000000\">y &lt;= &#45;0.064</text>\n",
       "<text text-anchor=\"middle\" x=\"426\" y=\"-751.8\" font-family=\"Helvetica,sans-Serif\" font-size=\"14.00\" fill=\"#000000\">gini = 0.5</text>\n",
       "<text text-anchor=\"middle\" x=\"426\" y=\"-736.8\" font-family=\"Helvetica,sans-Serif\" font-size=\"14.00\" fill=\"#000000\">samples = 8000</text>\n",
       "<text text-anchor=\"middle\" x=\"426\" y=\"-721.8\" font-family=\"Helvetica,sans-Serif\" font-size=\"14.00\" fill=\"#000000\">value = [4016, 3984]</text>\n",
       "<text text-anchor=\"middle\" x=\"426\" y=\"-706.8\" font-family=\"Helvetica,sans-Serif\" font-size=\"14.00\" fill=\"#000000\">class = b</text>\n",
       "</g>\n",
       "<!-- 1 -->\n",
       "<g id=\"node2\" class=\"node\">\n",
       "<title>1</title>\n",
       "<path fill=\"#71b9ec\" stroke=\"#000000\" d=\"M344,-663C344,-663 232,-663 232,-663 226,-663 220,-657 220,-651 220,-651 220,-592 220,-592 220,-586 226,-580 232,-580 232,-580 344,-580 344,-580 350,-580 356,-586 356,-592 356,-592 356,-651 356,-651 356,-657 350,-663 344,-663\"/>\n",
       "<text text-anchor=\"middle\" x=\"288\" y=\"-647.8\" font-family=\"Helvetica,sans-Serif\" font-size=\"14.00\" fill=\"#000000\">x &lt;= &#45;1.083</text>\n",
       "<text text-anchor=\"middle\" x=\"288\" y=\"-632.8\" font-family=\"Helvetica,sans-Serif\" font-size=\"14.00\" fill=\"#000000\">gini = 0.345</text>\n",
       "<text text-anchor=\"middle\" x=\"288\" y=\"-617.8\" font-family=\"Helvetica,sans-Serif\" font-size=\"14.00\" fill=\"#000000\">samples = 3794</text>\n",
       "<text text-anchor=\"middle\" x=\"288\" y=\"-602.8\" font-family=\"Helvetica,sans-Serif\" font-size=\"14.00\" fill=\"#000000\">value = [840, 2954]</text>\n",
       "<text text-anchor=\"middle\" x=\"288\" y=\"-587.8\" font-family=\"Helvetica,sans-Serif\" font-size=\"14.00\" fill=\"#000000\">class = o</text>\n",
       "</g>\n",
       "<!-- 0&#45;&gt;1 -->\n",
       "<g id=\"edge1\" class=\"edge\">\n",
       "<title>0&#45;&gt;1</title>\n",
       "<path fill=\"none\" stroke=\"#000000\" d=\"M377.7343,-698.8796C366.8722,-689.513 355.2544,-679.4948 344.1027,-669.8784\"/>\n",
       "<polygon fill=\"#000000\" stroke=\"#000000\" points=\"346.3306,-667.178 336.4717,-663.2981 341.7592,-672.4792 346.3306,-667.178\"/>\n",
       "<text text-anchor=\"middle\" x=\"338.3149\" y=\"-684.53\" font-family=\"Helvetica,sans-Serif\" font-size=\"14.00\" fill=\"#000000\">True</text>\n",
       "</g>\n",
       "<!-- 2 -->\n",
       "<g id=\"node11\" class=\"node\">\n",
       "<title>2</title>\n",
       "<path fill=\"#edaa79\" stroke=\"#000000\" d=\"M697,-663C697,-663 577,-663 577,-663 571,-663 565,-657 565,-651 565,-651 565,-592 565,-592 565,-586 571,-580 577,-580 577,-580 697,-580 697,-580 703,-580 709,-586 709,-592 709,-592 709,-651 709,-651 709,-657 703,-663 697,-663\"/>\n",
       "<text text-anchor=\"middle\" x=\"637\" y=\"-647.8\" font-family=\"Helvetica,sans-Serif\" font-size=\"14.00\" fill=\"#000000\">x &lt;= 1.009</text>\n",
       "<text text-anchor=\"middle\" x=\"637\" y=\"-632.8\" font-family=\"Helvetica,sans-Serif\" font-size=\"14.00\" fill=\"#000000\">gini = 0.37</text>\n",
       "<text text-anchor=\"middle\" x=\"637\" y=\"-617.8\" font-family=\"Helvetica,sans-Serif\" font-size=\"14.00\" fill=\"#000000\">samples = 4206</text>\n",
       "<text text-anchor=\"middle\" x=\"637\" y=\"-602.8\" font-family=\"Helvetica,sans-Serif\" font-size=\"14.00\" fill=\"#000000\">value = [3176, 1030]</text>\n",
       "<text text-anchor=\"middle\" x=\"637\" y=\"-587.8\" font-family=\"Helvetica,sans-Serif\" font-size=\"14.00\" fill=\"#000000\">class = b</text>\n",
       "</g>\n",
       "<!-- 0&#45;&gt;2 -->\n",
       "<g id=\"edge10\" class=\"edge\">\n",
       "<title>0&#45;&gt;2</title>\n",
       "<path fill=\"none\" stroke=\"#000000\" d=\"M498.0241,-699.8798C516.7629,-689.3115 537.0735,-677.8566 556.2312,-667.052\"/>\n",
       "<polygon fill=\"#000000\" stroke=\"#000000\" points=\"557.9516,-670.1001 564.9425,-662.1391 554.5129,-664.0029 557.9516,-670.1001\"/>\n",
       "<text text-anchor=\"middle\" x=\"558.2288\" y=\"-682.5207\" font-family=\"Helvetica,sans-Serif\" font-size=\"14.00\" fill=\"#000000\">False</text>\n",
       "</g>\n",
       "<!-- 5 -->\n",
       "<g id=\"node3\" class=\"node\">\n",
       "<title>5</title>\n",
       "<path fill=\"#e78b49\" stroke=\"#000000\" d=\"M190,-536.5C190,-536.5 94,-536.5 94,-536.5 88,-536.5 82,-530.5 82,-524.5 82,-524.5 82,-480.5 82,-480.5 82,-474.5 88,-468.5 94,-468.5 94,-468.5 190,-468.5 190,-468.5 196,-468.5 202,-474.5 202,-480.5 202,-480.5 202,-524.5 202,-524.5 202,-530.5 196,-536.5 190,-536.5\"/>\n",
       "<text text-anchor=\"middle\" x=\"142\" y=\"-521.3\" font-family=\"Helvetica,sans-Serif\" font-size=\"14.00\" fill=\"#000000\">gini = 0.14</text>\n",
       "<text text-anchor=\"middle\" x=\"142\" y=\"-506.3\" font-family=\"Helvetica,sans-Serif\" font-size=\"14.00\" fill=\"#000000\">samples = 356</text>\n",
       "<text text-anchor=\"middle\" x=\"142\" y=\"-491.3\" font-family=\"Helvetica,sans-Serif\" font-size=\"14.00\" fill=\"#000000\">value = [329, 27]</text>\n",
       "<text text-anchor=\"middle\" x=\"142\" y=\"-476.3\" font-family=\"Helvetica,sans-Serif\" font-size=\"14.00\" fill=\"#000000\">class = b</text>\n",
       "</g>\n",
       "<!-- 1&#45;&gt;5 -->\n",
       "<g id=\"edge2\" class=\"edge\">\n",
       "<title>1&#45;&gt;5</title>\n",
       "<path fill=\"none\" stroke=\"#000000\" d=\"M236.9363,-579.8796C222.366,-568.0038 206.5104,-555.0804 192.0042,-543.2568\"/>\n",
       "<polygon fill=\"#000000\" stroke=\"#000000\" points=\"194.0634,-540.4199 184.1007,-536.8149 189.6408,-545.8459 194.0634,-540.4199\"/>\n",
       "</g>\n",
       "<!-- 6 -->\n",
       "<g id=\"node4\" class=\"node\">\n",
       "<title>6</title>\n",
       "<path fill=\"#5caeea\" stroke=\"#000000\" d=\"M344,-544C344,-544 232,-544 232,-544 226,-544 220,-538 220,-532 220,-532 220,-473 220,-473 220,-467 226,-461 232,-461 232,-461 344,-461 344,-461 350,-461 356,-467 356,-473 356,-473 356,-532 356,-532 356,-538 350,-544 344,-544\"/>\n",
       "<text text-anchor=\"middle\" x=\"288\" y=\"-528.8\" font-family=\"Helvetica,sans-Serif\" font-size=\"14.00\" fill=\"#000000\">y &lt;= &#45;0.57</text>\n",
       "<text text-anchor=\"middle\" x=\"288\" y=\"-513.8\" font-family=\"Helvetica,sans-Serif\" font-size=\"14.00\" fill=\"#000000\">gini = 0.253</text>\n",
       "<text text-anchor=\"middle\" x=\"288\" y=\"-498.8\" font-family=\"Helvetica,sans-Serif\" font-size=\"14.00\" fill=\"#000000\">samples = 3438</text>\n",
       "<text text-anchor=\"middle\" x=\"288\" y=\"-483.8\" font-family=\"Helvetica,sans-Serif\" font-size=\"14.00\" fill=\"#000000\">value = [511, 2927]</text>\n",
       "<text text-anchor=\"middle\" x=\"288\" y=\"-468.8\" font-family=\"Helvetica,sans-Serif\" font-size=\"14.00\" fill=\"#000000\">class = o</text>\n",
       "</g>\n",
       "<!-- 1&#45;&gt;6 -->\n",
       "<g id=\"edge3\" class=\"edge\">\n",
       "<title>1&#45;&gt;6</title>\n",
       "<path fill=\"none\" stroke=\"#000000\" d=\"M288,-579.8796C288,-571.6838 288,-562.9891 288,-554.5013\"/>\n",
       "<polygon fill=\"#000000\" stroke=\"#000000\" points=\"291.5001,-554.298 288,-544.2981 284.5001,-554.2981 291.5001,-554.298\"/>\n",
       "</g>\n",
       "<!-- 11 -->\n",
       "<g id=\"node5\" class=\"node\">\n",
       "<title>11</title>\n",
       "<path fill=\"#4aa6e7\" stroke=\"#000000\" d=\"M194,-417.5C194,-417.5 82,-417.5 82,-417.5 76,-417.5 70,-411.5 70,-405.5 70,-405.5 70,-361.5 70,-361.5 70,-355.5 76,-349.5 82,-349.5 82,-349.5 194,-349.5 194,-349.5 200,-349.5 206,-355.5 206,-361.5 206,-361.5 206,-405.5 206,-405.5 206,-411.5 200,-417.5 194,-417.5\"/>\n",
       "<text text-anchor=\"middle\" x=\"138\" y=\"-402.3\" font-family=\"Helvetica,sans-Serif\" font-size=\"14.00\" fill=\"#000000\">gini = 0.149</text>\n",
       "<text text-anchor=\"middle\" x=\"138\" y=\"-387.3\" font-family=\"Helvetica,sans-Serif\" font-size=\"14.00\" fill=\"#000000\">samples = 2279</text>\n",
       "<text text-anchor=\"middle\" x=\"138\" y=\"-372.3\" font-family=\"Helvetica,sans-Serif\" font-size=\"14.00\" fill=\"#000000\">value = [185, 2094]</text>\n",
       "<text text-anchor=\"middle\" x=\"138\" y=\"-357.3\" font-family=\"Helvetica,sans-Serif\" font-size=\"14.00\" fill=\"#000000\">class = o</text>\n",
       "</g>\n",
       "<!-- 6&#45;&gt;11 -->\n",
       "<g id=\"edge4\" class=\"edge\">\n",
       "<title>6&#45;&gt;11</title>\n",
       "<path fill=\"none\" stroke=\"#000000\" d=\"M235.5373,-460.8796C220.5678,-449.0038 204.2778,-436.0804 189.3741,-424.2568\"/>\n",
       "<polygon fill=\"#000000\" stroke=\"#000000\" points=\"191.2635,-421.2881 181.2541,-417.8149 186.913,-426.772 191.2635,-421.2881\"/>\n",
       "</g>\n",
       "<!-- 12 -->\n",
       "<g id=\"node6\" class=\"node\">\n",
       "<title>12</title>\n",
       "<path fill=\"#86c3ef\" stroke=\"#000000\" d=\"M340,-425C340,-425 236,-425 236,-425 230,-425 224,-419 224,-413 224,-413 224,-354 224,-354 224,-348 230,-342 236,-342 236,-342 340,-342 340,-342 346,-342 352,-348 352,-354 352,-354 352,-413 352,-413 352,-419 346,-425 340,-425\"/>\n",
       "<text text-anchor=\"middle\" x=\"288\" y=\"-409.8\" font-family=\"Helvetica,sans-Serif\" font-size=\"14.00\" fill=\"#000000\">x &lt;= 1.092</text>\n",
       "<text text-anchor=\"middle\" x=\"288\" y=\"-394.8\" font-family=\"Helvetica,sans-Serif\" font-size=\"14.00\" fill=\"#000000\">gini = 0.404</text>\n",
       "<text text-anchor=\"middle\" x=\"288\" y=\"-379.8\" font-family=\"Helvetica,sans-Serif\" font-size=\"14.00\" fill=\"#000000\">samples = 1159</text>\n",
       "<text text-anchor=\"middle\" x=\"288\" y=\"-364.8\" font-family=\"Helvetica,sans-Serif\" font-size=\"14.00\" fill=\"#000000\">value = [326, 833]</text>\n",
       "<text text-anchor=\"middle\" x=\"288\" y=\"-349.8\" font-family=\"Helvetica,sans-Serif\" font-size=\"14.00\" fill=\"#000000\">class = o</text>\n",
       "</g>\n",
       "<!-- 6&#45;&gt;12 -->\n",
       "<g id=\"edge5\" class=\"edge\">\n",
       "<title>6&#45;&gt;12</title>\n",
       "<path fill=\"none\" stroke=\"#000000\" d=\"M288,-460.8796C288,-452.6838 288,-443.9891 288,-435.5013\"/>\n",
       "<polygon fill=\"#000000\" stroke=\"#000000\" points=\"291.5001,-435.298 288,-425.2981 284.5001,-435.2981 291.5001,-435.298\"/>\n",
       "</g>\n",
       "<!-- 13 -->\n",
       "<g id=\"node7\" class=\"node\">\n",
       "<title>13</title>\n",
       "<path fill=\"#acd6f4\" stroke=\"#000000\" d=\"M198,-306C198,-306 94,-306 94,-306 88,-306 82,-300 82,-294 82,-294 82,-235 82,-235 82,-229 88,-223 94,-223 94,-223 198,-223 198,-223 204,-223 210,-229 210,-235 210,-235 210,-294 210,-294 210,-300 204,-306 198,-306\"/>\n",
       "<text text-anchor=\"middle\" x=\"146\" y=\"-290.8\" font-family=\"Helvetica,sans-Serif\" font-size=\"14.00\" fill=\"#000000\">x &lt;= 0.009</text>\n",
       "<text text-anchor=\"middle\" x=\"146\" y=\"-275.8\" font-family=\"Helvetica,sans-Serif\" font-size=\"14.00\" fill=\"#000000\">gini = 0.465</text>\n",
       "<text text-anchor=\"middle\" x=\"146\" y=\"-260.8\" font-family=\"Helvetica,sans-Serif\" font-size=\"14.00\" fill=\"#000000\">samples = 850</text>\n",
       "<text text-anchor=\"middle\" x=\"146\" y=\"-245.8\" font-family=\"Helvetica,sans-Serif\" font-size=\"14.00\" fill=\"#000000\">value = [313, 537]</text>\n",
       "<text text-anchor=\"middle\" x=\"146\" y=\"-230.8\" font-family=\"Helvetica,sans-Serif\" font-size=\"14.00\" fill=\"#000000\">class = o</text>\n",
       "</g>\n",
       "<!-- 12&#45;&gt;13 -->\n",
       "<g id=\"edge6\" class=\"edge\">\n",
       "<title>12&#45;&gt;13</title>\n",
       "<path fill=\"none\" stroke=\"#000000\" d=\"M238.3353,-341.8796C227.1584,-332.513 215.2038,-322.4948 203.7288,-312.8784\"/>\n",
       "<polygon fill=\"#000000\" stroke=\"#000000\" points=\"205.7893,-310.0386 195.8767,-306.2981 201.2931,-315.4037 205.7893,-310.0386\"/>\n",
       "</g>\n",
       "<!-- 14 -->\n",
       "<g id=\"node10\" class=\"node\">\n",
       "<title>14</title>\n",
       "<path fill=\"#42a1e6\" stroke=\"#000000\" d=\"M336,-298.5C336,-298.5 240,-298.5 240,-298.5 234,-298.5 228,-292.5 228,-286.5 228,-286.5 228,-242.5 228,-242.5 228,-236.5 234,-230.5 240,-230.5 240,-230.5 336,-230.5 336,-230.5 342,-230.5 348,-236.5 348,-242.5 348,-242.5 348,-286.5 348,-286.5 348,-292.5 342,-298.5 336,-298.5\"/>\n",
       "<text text-anchor=\"middle\" x=\"288\" y=\"-283.3\" font-family=\"Helvetica,sans-Serif\" font-size=\"14.00\" fill=\"#000000\">gini = 0.081</text>\n",
       "<text text-anchor=\"middle\" x=\"288\" y=\"-268.3\" font-family=\"Helvetica,sans-Serif\" font-size=\"14.00\" fill=\"#000000\">samples = 309</text>\n",
       "<text text-anchor=\"middle\" x=\"288\" y=\"-253.3\" font-family=\"Helvetica,sans-Serif\" font-size=\"14.00\" fill=\"#000000\">value = [13, 296]</text>\n",
       "<text text-anchor=\"middle\" x=\"288\" y=\"-238.3\" font-family=\"Helvetica,sans-Serif\" font-size=\"14.00\" fill=\"#000000\">class = o</text>\n",
       "</g>\n",
       "<!-- 12&#45;&gt;14 -->\n",
       "<g id=\"edge9\" class=\"edge\">\n",
       "<title>12&#45;&gt;14</title>\n",
       "<path fill=\"none\" stroke=\"#000000\" d=\"M288,-341.8796C288,-331.2134 288,-319.7021 288,-308.9015\"/>\n",
       "<polygon fill=\"#000000\" stroke=\"#000000\" points=\"291.5001,-308.8149 288,-298.8149 284.5001,-308.815 291.5001,-308.8149\"/>\n",
       "</g>\n",
       "<!-- 25 -->\n",
       "<g id=\"node8\" class=\"node\">\n",
       "<title>25</title>\n",
       "<path fill=\"#87c3ef\" stroke=\"#000000\" d=\"M116,-179.5C116,-179.5 12,-179.5 12,-179.5 6,-179.5 0,-173.5 0,-167.5 0,-167.5 0,-123.5 0,-123.5 0,-117.5 6,-111.5 12,-111.5 12,-111.5 116,-111.5 116,-111.5 122,-111.5 128,-117.5 128,-123.5 128,-123.5 128,-167.5 128,-167.5 128,-173.5 122,-179.5 116,-179.5\"/>\n",
       "<text text-anchor=\"middle\" x=\"64\" y=\"-164.3\" font-family=\"Helvetica,sans-Serif\" font-size=\"14.00\" fill=\"#000000\">gini = 0.405</text>\n",
       "<text text-anchor=\"middle\" x=\"64\" y=\"-149.3\" font-family=\"Helvetica,sans-Serif\" font-size=\"14.00\" fill=\"#000000\">samples = 383</text>\n",
       "<text text-anchor=\"middle\" x=\"64\" y=\"-134.3\" font-family=\"Helvetica,sans-Serif\" font-size=\"14.00\" fill=\"#000000\">value = [108, 275]</text>\n",
       "<text text-anchor=\"middle\" x=\"64\" y=\"-119.3\" font-family=\"Helvetica,sans-Serif\" font-size=\"14.00\" fill=\"#000000\">class = o</text>\n",
       "</g>\n",
       "<!-- 13&#45;&gt;25 -->\n",
       "<g id=\"edge7\" class=\"edge\">\n",
       "<title>13&#45;&gt;25</title>\n",
       "<path fill=\"none\" stroke=\"#000000\" d=\"M117.3204,-222.8796C109.5917,-211.6636 101.2191,-199.5131 93.4492,-188.2372\"/>\n",
       "<polygon fill=\"#000000\" stroke=\"#000000\" points=\"96.2018,-186.0634 87.6456,-179.8149 90.4377,-190.0353 96.2018,-186.0634\"/>\n",
       "</g>\n",
       "<!-- 26 -->\n",
       "<g id=\"node9\" class=\"node\">\n",
       "<title>26</title>\n",
       "<path fill=\"#d4eaf9\" stroke=\"#000000\" d=\"M262,-179.5C262,-179.5 158,-179.5 158,-179.5 152,-179.5 146,-173.5 146,-167.5 146,-167.5 146,-123.5 146,-123.5 146,-117.5 152,-111.5 158,-111.5 158,-111.5 262,-111.5 262,-111.5 268,-111.5 274,-117.5 274,-123.5 274,-123.5 274,-167.5 274,-167.5 274,-173.5 268,-179.5 262,-179.5\"/>\n",
       "<text text-anchor=\"middle\" x=\"210\" y=\"-164.3\" font-family=\"Helvetica,sans-Serif\" font-size=\"14.00\" fill=\"#000000\">gini = 0.493</text>\n",
       "<text text-anchor=\"middle\" x=\"210\" y=\"-149.3\" font-family=\"Helvetica,sans-Serif\" font-size=\"14.00\" fill=\"#000000\">samples = 467</text>\n",
       "<text text-anchor=\"middle\" x=\"210\" y=\"-134.3\" font-family=\"Helvetica,sans-Serif\" font-size=\"14.00\" fill=\"#000000\">value = [205, 262]</text>\n",
       "<text text-anchor=\"middle\" x=\"210\" y=\"-119.3\" font-family=\"Helvetica,sans-Serif\" font-size=\"14.00\" fill=\"#000000\">class = o</text>\n",
       "</g>\n",
       "<!-- 13&#45;&gt;26 -->\n",
       "<g id=\"edge8\" class=\"edge\">\n",
       "<title>13&#45;&gt;26</title>\n",
       "<path fill=\"none\" stroke=\"#000000\" d=\"M168.3841,-222.8796C174.298,-211.8835 180.6949,-199.9893 186.658,-188.9015\"/>\n",
       "<polygon fill=\"#000000\" stroke=\"#000000\" points=\"189.8908,-190.2799 191.5449,-179.8149 183.7258,-186.9642 189.8908,-190.2799\"/>\n",
       "</g>\n",
       "<!-- 3 -->\n",
       "<g id=\"node12\" class=\"node\">\n",
       "<title>3</title>\n",
       "<path fill=\"#ea9a60\" stroke=\"#000000\" d=\"M693,-544C693,-544 581,-544 581,-544 575,-544 569,-538 569,-532 569,-532 569,-473 569,-473 569,-467 575,-461 581,-461 581,-461 693,-461 693,-461 699,-461 705,-467 705,-473 705,-473 705,-532 705,-532 705,-538 699,-544 693,-544\"/>\n",
       "<text text-anchor=\"middle\" x=\"637\" y=\"-528.8\" font-family=\"Helvetica,sans-Serif\" font-size=\"14.00\" fill=\"#000000\">y &lt;= 0.533</text>\n",
       "<text text-anchor=\"middle\" x=\"637\" y=\"-513.8\" font-family=\"Helvetica,sans-Serif\" font-size=\"14.00\" fill=\"#000000\">gini = 0.275</text>\n",
       "<text text-anchor=\"middle\" x=\"637\" y=\"-498.8\" font-family=\"Helvetica,sans-Serif\" font-size=\"14.00\" fill=\"#000000\">samples = 3735</text>\n",
       "<text text-anchor=\"middle\" x=\"637\" y=\"-483.8\" font-family=\"Helvetica,sans-Serif\" font-size=\"14.00\" fill=\"#000000\">value = [3119, 616]</text>\n",
       "<text text-anchor=\"middle\" x=\"637\" y=\"-468.8\" font-family=\"Helvetica,sans-Serif\" font-size=\"14.00\" fill=\"#000000\">class = b</text>\n",
       "</g>\n",
       "<!-- 2&#45;&gt;3 -->\n",
       "<g id=\"edge11\" class=\"edge\">\n",
       "<title>2&#45;&gt;3</title>\n",
       "<path fill=\"none\" stroke=\"#000000\" d=\"M637,-579.8796C637,-571.6838 637,-562.9891 637,-554.5013\"/>\n",
       "<polygon fill=\"#000000\" stroke=\"#000000\" points=\"640.5001,-554.298 637,-544.2981 633.5001,-554.2981 640.5001,-554.298\"/>\n",
       "</g>\n",
       "<!-- 4 -->\n",
       "<g id=\"node25\" class=\"node\">\n",
       "<title>4</title>\n",
       "<path fill=\"#54aae9\" stroke=\"#000000\" d=\"M905,-544C905,-544 809,-544 809,-544 803,-544 797,-538 797,-532 797,-532 797,-473 797,-473 797,-467 803,-461 809,-461 809,-461 905,-461 905,-461 911,-461 917,-467 917,-473 917,-473 917,-532 917,-532 917,-538 911,-544 905,-544\"/>\n",
       "<text text-anchor=\"middle\" x=\"857\" y=\"-528.8\" font-family=\"Helvetica,sans-Serif\" font-size=\"14.00\" fill=\"#000000\">x &lt;= 1.253</text>\n",
       "<text text-anchor=\"middle\" x=\"857\" y=\"-513.8\" font-family=\"Helvetica,sans-Serif\" font-size=\"14.00\" fill=\"#000000\">gini = 0.213</text>\n",
       "<text text-anchor=\"middle\" x=\"857\" y=\"-498.8\" font-family=\"Helvetica,sans-Serif\" font-size=\"14.00\" fill=\"#000000\">samples = 471</text>\n",
       "<text text-anchor=\"middle\" x=\"857\" y=\"-483.8\" font-family=\"Helvetica,sans-Serif\" font-size=\"14.00\" fill=\"#000000\">value = [57, 414]</text>\n",
       "<text text-anchor=\"middle\" x=\"857\" y=\"-468.8\" font-family=\"Helvetica,sans-Serif\" font-size=\"14.00\" fill=\"#000000\">class = o</text>\n",
       "</g>\n",
       "<!-- 2&#45;&gt;4 -->\n",
       "<g id=\"edge24\" class=\"edge\">\n",
       "<title>2&#45;&gt;4</title>\n",
       "<path fill=\"none\" stroke=\"#000000\" d=\"M709.0362,-582.5349C734.3714,-568.8309 762.769,-553.4704 787.8603,-539.8983\"/>\n",
       "<polygon fill=\"#000000\" stroke=\"#000000\" points=\"789.8126,-542.8216 796.9431,-534.9853 786.4822,-536.6646 789.8126,-542.8216\"/>\n",
       "</g>\n",
       "<!-- 7 -->\n",
       "<g id=\"node13\" class=\"node\">\n",
       "<title>7</title>\n",
       "<path fill=\"#f0b78d\" stroke=\"#000000\" d=\"M616,-425C616,-425 512,-425 512,-425 506,-425 500,-419 500,-413 500,-413 500,-354 500,-354 500,-348 506,-342 512,-342 512,-342 616,-342 616,-342 622,-342 628,-348 628,-354 628,-354 628,-413 628,-413 628,-419 622,-425 616,-425\"/>\n",
       "<text text-anchor=\"middle\" x=\"564\" y=\"-409.8\" font-family=\"Helvetica,sans-Serif\" font-size=\"14.00\" fill=\"#000000\">x &lt;= &#45;0.954</text>\n",
       "<text text-anchor=\"middle\" x=\"564\" y=\"-394.8\" font-family=\"Helvetica,sans-Serif\" font-size=\"14.00\" fill=\"#000000\">gini = 0.419</text>\n",
       "<text text-anchor=\"middle\" x=\"564\" y=\"-379.8\" font-family=\"Helvetica,sans-Serif\" font-size=\"14.00\" fill=\"#000000\">samples = 1408</text>\n",
       "<text text-anchor=\"middle\" x=\"564\" y=\"-364.8\" font-family=\"Helvetica,sans-Serif\" font-size=\"14.00\" fill=\"#000000\">value = [988, 420]</text>\n",
       "<text text-anchor=\"middle\" x=\"564\" y=\"-349.8\" font-family=\"Helvetica,sans-Serif\" font-size=\"14.00\" fill=\"#000000\">class = b</text>\n",
       "</g>\n",
       "<!-- 3&#45;&gt;7 -->\n",
       "<g id=\"edge12\" class=\"edge\">\n",
       "<title>3&#45;&gt;7</title>\n",
       "<path fill=\"none\" stroke=\"#000000\" d=\"M611.4681,-460.8796C606.109,-452.1434 600.4021,-442.8404 594.8718,-433.8253\"/>\n",
       "<polygon fill=\"#000000\" stroke=\"#000000\" points=\"597.8533,-431.9919 589.6408,-425.2981 591.8865,-435.6522 597.8533,-431.9919\"/>\n",
       "</g>\n",
       "<!-- 8 -->\n",
       "<g id=\"node20\" class=\"node\">\n",
       "<title>8</title>\n",
       "<path fill=\"#e78d4b\" stroke=\"#000000\" d=\"M770,-425C770,-425 658,-425 658,-425 652,-425 646,-419 646,-413 646,-413 646,-354 646,-354 646,-348 652,-342 658,-342 658,-342 770,-342 770,-342 776,-342 782,-348 782,-354 782,-354 782,-413 782,-413 782,-419 776,-425 770,-425\"/>\n",
       "<text text-anchor=\"middle\" x=\"714\" y=\"-409.8\" font-family=\"Helvetica,sans-Serif\" font-size=\"14.00\" fill=\"#000000\">y &lt;= 0.88</text>\n",
       "<text text-anchor=\"middle\" x=\"714\" y=\"-394.8\" font-family=\"Helvetica,sans-Serif\" font-size=\"14.00\" fill=\"#000000\">gini = 0.154</text>\n",
       "<text text-anchor=\"middle\" x=\"714\" y=\"-379.8\" font-family=\"Helvetica,sans-Serif\" font-size=\"14.00\" fill=\"#000000\">samples = 2327</text>\n",
       "<text text-anchor=\"middle\" x=\"714\" y=\"-364.8\" font-family=\"Helvetica,sans-Serif\" font-size=\"14.00\" fill=\"#000000\">value = [2131, 196]</text>\n",
       "<text text-anchor=\"middle\" x=\"714\" y=\"-349.8\" font-family=\"Helvetica,sans-Serif\" font-size=\"14.00\" fill=\"#000000\">class = b</text>\n",
       "</g>\n",
       "<!-- 3&#45;&gt;8 -->\n",
       "<g id=\"edge19\" class=\"edge\">\n",
       "<title>3&#45;&gt;8</title>\n",
       "<path fill=\"none\" stroke=\"#000000\" d=\"M663.9309,-460.8796C669.5837,-452.1434 675.6033,-442.8404 681.4366,-433.8253\"/>\n",
       "<polygon fill=\"#000000\" stroke=\"#000000\" points=\"684.4601,-435.5952 686.9542,-425.2981 678.5831,-431.7924 684.4601,-435.5952\"/>\n",
       "</g>\n",
       "<!-- 9 -->\n",
       "<g id=\"node14\" class=\"node\">\n",
       "<title>9</title>\n",
       "<path fill=\"#e68844\" stroke=\"#000000\" d=\"M474,-298.5C474,-298.5 378,-298.5 378,-298.5 372,-298.5 366,-292.5 366,-286.5 366,-286.5 366,-242.5 366,-242.5 366,-236.5 372,-230.5 378,-230.5 378,-230.5 474,-230.5 474,-230.5 480,-230.5 486,-236.5 486,-242.5 486,-242.5 486,-286.5 486,-286.5 486,-292.5 480,-298.5 474,-298.5\"/>\n",
       "<text text-anchor=\"middle\" x=\"426\" y=\"-283.3\" font-family=\"Helvetica,sans-Serif\" font-size=\"14.00\" fill=\"#000000\">gini = 0.103</text>\n",
       "<text text-anchor=\"middle\" x=\"426\" y=\"-268.3\" font-family=\"Helvetica,sans-Serif\" font-size=\"14.00\" fill=\"#000000\">samples = 424</text>\n",
       "<text text-anchor=\"middle\" x=\"426\" y=\"-253.3\" font-family=\"Helvetica,sans-Serif\" font-size=\"14.00\" fill=\"#000000\">value = [401, 23]</text>\n",
       "<text text-anchor=\"middle\" x=\"426\" y=\"-238.3\" font-family=\"Helvetica,sans-Serif\" font-size=\"14.00\" fill=\"#000000\">class = b</text>\n",
       "</g>\n",
       "<!-- 7&#45;&gt;9 -->\n",
       "<g id=\"edge13\" class=\"edge\">\n",
       "<title>7&#45;&gt;9</title>\n",
       "<path fill=\"none\" stroke=\"#000000\" d=\"M515.7343,-341.8796C502.0899,-330.1138 487.2531,-317.3197 473.6454,-305.5855\"/>\n",
       "<polygon fill=\"#000000\" stroke=\"#000000\" points=\"475.6527,-302.6948 465.7938,-298.8149 471.0813,-307.9961 475.6527,-302.6948\"/>\n",
       "</g>\n",
       "<!-- 10 -->\n",
       "<g id=\"node15\" class=\"node\">\n",
       "<title>10</title>\n",
       "<path fill=\"#f7d6bf\" stroke=\"#000000\" d=\"M620,-306C620,-306 516,-306 516,-306 510,-306 504,-300 504,-294 504,-294 504,-235 504,-235 504,-229 510,-223 516,-223 516,-223 620,-223 620,-223 626,-223 632,-229 632,-235 632,-235 632,-294 632,-294 632,-300 626,-306 620,-306\"/>\n",
       "<text text-anchor=\"middle\" x=\"568\" y=\"-290.8\" font-family=\"Helvetica,sans-Serif\" font-size=\"14.00\" fill=\"#000000\">x &lt;= &#45;0.172</text>\n",
       "<text text-anchor=\"middle\" x=\"568\" y=\"-275.8\" font-family=\"Helvetica,sans-Serif\" font-size=\"14.00\" fill=\"#000000\">gini = 0.481</text>\n",
       "<text text-anchor=\"middle\" x=\"568\" y=\"-260.8\" font-family=\"Helvetica,sans-Serif\" font-size=\"14.00\" fill=\"#000000\">samples = 984</text>\n",
       "<text text-anchor=\"middle\" x=\"568\" y=\"-245.8\" font-family=\"Helvetica,sans-Serif\" font-size=\"14.00\" fill=\"#000000\">value = [587, 397]</text>\n",
       "<text text-anchor=\"middle\" x=\"568\" y=\"-230.8\" font-family=\"Helvetica,sans-Serif\" font-size=\"14.00\" fill=\"#000000\">class = b</text>\n",
       "</g>\n",
       "<!-- 7&#45;&gt;10 -->\n",
       "<g id=\"edge14\" class=\"edge\">\n",
       "<title>7&#45;&gt;10</title>\n",
       "<path fill=\"none\" stroke=\"#000000\" d=\"M565.399,-341.8796C565.6745,-333.6838 565.9668,-324.9891 566.2521,-316.5013\"/>\n",
       "<polygon fill=\"#000000\" stroke=\"#000000\" points=\"569.757,-316.41 566.595,-306.2981 562.761,-316.1748 569.757,-316.41\"/>\n",
       "</g>\n",
       "<!-- 15 -->\n",
       "<g id=\"node16\" class=\"node\">\n",
       "<title>15</title>\n",
       "<path fill=\"#edf6fd\" stroke=\"#000000\" d=\"M476,-187C476,-187 372,-187 372,-187 366,-187 360,-181 360,-175 360,-175 360,-116 360,-116 360,-110 366,-104 372,-104 372,-104 476,-104 476,-104 482,-104 488,-110 488,-116 488,-116 488,-175 488,-175 488,-181 482,-187 476,-187\"/>\n",
       "<text text-anchor=\"middle\" x=\"424\" y=\"-171.8\" font-family=\"Helvetica,sans-Serif\" font-size=\"14.00\" fill=\"#000000\">y &lt;= 0.213</text>\n",
       "<text text-anchor=\"middle\" x=\"424\" y=\"-156.8\" font-family=\"Helvetica,sans-Serif\" font-size=\"14.00\" fill=\"#000000\">gini = 0.499</text>\n",
       "<text text-anchor=\"middle\" x=\"424\" y=\"-141.8\" font-family=\"Helvetica,sans-Serif\" font-size=\"14.00\" fill=\"#000000\">samples = 433</text>\n",
       "<text text-anchor=\"middle\" x=\"424\" y=\"-126.8\" font-family=\"Helvetica,sans-Serif\" font-size=\"14.00\" fill=\"#000000\">value = [206, 227]</text>\n",
       "<text text-anchor=\"middle\" x=\"424\" y=\"-111.8\" font-family=\"Helvetica,sans-Serif\" font-size=\"14.00\" fill=\"#000000\">class = o</text>\n",
       "</g>\n",
       "<!-- 10&#45;&gt;15 -->\n",
       "<g id=\"edge15\" class=\"edge\">\n",
       "<title>10&#45;&gt;15</title>\n",
       "<path fill=\"none\" stroke=\"#000000\" d=\"M517.6358,-222.8796C506.3015,-213.513 494.1785,-203.4948 482.5419,-193.8784\"/>\n",
       "<polygon fill=\"#000000\" stroke=\"#000000\" points=\"484.5173,-190.9703 474.5792,-187.2981 480.0581,-196.3663 484.5173,-190.9703\"/>\n",
       "</g>\n",
       "<!-- 16 -->\n",
       "<g id=\"node19\" class=\"node\">\n",
       "<title>16</title>\n",
       "<path fill=\"#f1b991\" stroke=\"#000000\" d=\"M622,-179.5C622,-179.5 518,-179.5 518,-179.5 512,-179.5 506,-173.5 506,-167.5 506,-167.5 506,-123.5 506,-123.5 506,-117.5 512,-111.5 518,-111.5 518,-111.5 622,-111.5 622,-111.5 628,-111.5 634,-117.5 634,-123.5 634,-123.5 634,-167.5 634,-167.5 634,-173.5 628,-179.5 622,-179.5\"/>\n",
       "<text text-anchor=\"middle\" x=\"570\" y=\"-164.3\" font-family=\"Helvetica,sans-Serif\" font-size=\"14.00\" fill=\"#000000\">gini = 0.427</text>\n",
       "<text text-anchor=\"middle\" x=\"570\" y=\"-149.3\" font-family=\"Helvetica,sans-Serif\" font-size=\"14.00\" fill=\"#000000\">samples = 551</text>\n",
       "<text text-anchor=\"middle\" x=\"570\" y=\"-134.3\" font-family=\"Helvetica,sans-Serif\" font-size=\"14.00\" fill=\"#000000\">value = [381, 170]</text>\n",
       "<text text-anchor=\"middle\" x=\"570\" y=\"-119.3\" font-family=\"Helvetica,sans-Serif\" font-size=\"14.00\" fill=\"#000000\">class = b</text>\n",
       "</g>\n",
       "<!-- 10&#45;&gt;16 -->\n",
       "<g id=\"edge18\" class=\"edge\">\n",
       "<title>10&#45;&gt;16</title>\n",
       "<path fill=\"none\" stroke=\"#000000\" d=\"M568.6995,-222.8796C568.8788,-212.2134 569.0722,-200.7021 569.2538,-189.9015\"/>\n",
       "<polygon fill=\"#000000\" stroke=\"#000000\" points=\"572.7546,-189.8724 569.4233,-179.8149 565.7556,-189.7547 572.7546,-189.8724\"/>\n",
       "</g>\n",
       "<!-- 17 -->\n",
       "<g id=\"node17\" class=\"node\">\n",
       "<title>17</title>\n",
       "<path fill=\"#92c9f1\" stroke=\"#000000\" d=\"M403,-68C403,-68 307,-68 307,-68 301,-68 295,-62 295,-56 295,-56 295,-12 295,-12 295,-6 301,0 307,0 307,0 403,0 403,0 409,0 415,-6 415,-12 415,-12 415,-56 415,-56 415,-62 409,-68 403,-68\"/>\n",
       "<text text-anchor=\"middle\" x=\"355\" y=\"-52.8\" font-family=\"Helvetica,sans-Serif\" font-size=\"14.00\" fill=\"#000000\">gini = 0.428</text>\n",
       "<text text-anchor=\"middle\" x=\"355\" y=\"-37.8\" font-family=\"Helvetica,sans-Serif\" font-size=\"14.00\" fill=\"#000000\">samples = 197</text>\n",
       "<text text-anchor=\"middle\" x=\"355\" y=\"-22.8\" font-family=\"Helvetica,sans-Serif\" font-size=\"14.00\" fill=\"#000000\">value = [61, 136]</text>\n",
       "<text text-anchor=\"middle\" x=\"355\" y=\"-7.8\" font-family=\"Helvetica,sans-Serif\" font-size=\"14.00\" fill=\"#000000\">class = o</text>\n",
       "</g>\n",
       "<!-- 15&#45;&gt;17 -->\n",
       "<g id=\"edge16\" class=\"edge\">\n",
       "<title>15&#45;&gt;17</title>\n",
       "<path fill=\"none\" stroke=\"#000000\" d=\"M398.3069,-103.9815C392.8469,-95.1585 387.0716,-85.8258 381.5793,-76.9506\"/>\n",
       "<polygon fill=\"#000000\" stroke=\"#000000\" points=\"384.442,-74.9254 376.2035,-68.2637 378.4896,-78.609 384.442,-74.9254\"/>\n",
       "</g>\n",
       "<!-- 18 -->\n",
       "<g id=\"node18\" class=\"node\">\n",
       "<title>18</title>\n",
       "<path fill=\"#f5d0b5\" stroke=\"#000000\" d=\"M541,-68C541,-68 445,-68 445,-68 439,-68 433,-62 433,-56 433,-56 433,-12 433,-12 433,-6 439,0 445,0 445,0 541,0 541,0 547,0 553,-6 553,-12 553,-12 553,-56 553,-56 553,-62 547,-68 541,-68\"/>\n",
       "<text text-anchor=\"middle\" x=\"493\" y=\"-52.8\" font-family=\"Helvetica,sans-Serif\" font-size=\"14.00\" fill=\"#000000\">gini = 0.474</text>\n",
       "<text text-anchor=\"middle\" x=\"493\" y=\"-37.8\" font-family=\"Helvetica,sans-Serif\" font-size=\"14.00\" fill=\"#000000\">samples = 236</text>\n",
       "<text text-anchor=\"middle\" x=\"493\" y=\"-22.8\" font-family=\"Helvetica,sans-Serif\" font-size=\"14.00\" fill=\"#000000\">value = [145, 91]</text>\n",
       "<text text-anchor=\"middle\" x=\"493\" y=\"-7.8\" font-family=\"Helvetica,sans-Serif\" font-size=\"14.00\" fill=\"#000000\">class = b</text>\n",
       "</g>\n",
       "<!-- 15&#45;&gt;18 -->\n",
       "<g id=\"edge17\" class=\"edge\">\n",
       "<title>15&#45;&gt;18</title>\n",
       "<path fill=\"none\" stroke=\"#000000\" d=\"M449.6931,-103.9815C455.1531,-95.1585 460.9284,-85.8258 466.4207,-76.9506\"/>\n",
       "<polygon fill=\"#000000\" stroke=\"#000000\" points=\"469.5104,-78.609 471.7965,-68.2637 463.558,-74.9254 469.5104,-78.609\"/>\n",
       "</g>\n",
       "<!-- 21 -->\n",
       "<g id=\"node21\" class=\"node\">\n",
       "<title>21</title>\n",
       "<path fill=\"#ea985d\" stroke=\"#000000\" d=\"M766,-306C766,-306 662,-306 662,-306 656,-306 650,-300 650,-294 650,-294 650,-235 650,-235 650,-229 656,-223 662,-223 662,-223 766,-223 766,-223 772,-223 778,-229 778,-235 778,-235 778,-294 778,-294 778,-300 772,-306 766,-306\"/>\n",
       "<text text-anchor=\"middle\" x=\"714\" y=\"-290.8\" font-family=\"Helvetica,sans-Serif\" font-size=\"14.00\" fill=\"#000000\">x &lt;= &#45;1.104</text>\n",
       "<text text-anchor=\"middle\" x=\"714\" y=\"-275.8\" font-family=\"Helvetica,sans-Serif\" font-size=\"14.00\" fill=\"#000000\">gini = 0.262</text>\n",
       "<text text-anchor=\"middle\" x=\"714\" y=\"-260.8\" font-family=\"Helvetica,sans-Serif\" font-size=\"14.00\" fill=\"#000000\">samples = 786</text>\n",
       "<text text-anchor=\"middle\" x=\"714\" y=\"-245.8\" font-family=\"Helvetica,sans-Serif\" font-size=\"14.00\" fill=\"#000000\">value = [664, 122]</text>\n",
       "<text text-anchor=\"middle\" x=\"714\" y=\"-230.8\" font-family=\"Helvetica,sans-Serif\" font-size=\"14.00\" fill=\"#000000\">class = b</text>\n",
       "</g>\n",
       "<!-- 8&#45;&gt;21 -->\n",
       "<g id=\"edge20\" class=\"edge\">\n",
       "<title>8&#45;&gt;21</title>\n",
       "<path fill=\"none\" stroke=\"#000000\" d=\"M714,-341.8796C714,-333.6838 714,-324.9891 714,-316.5013\"/>\n",
       "<polygon fill=\"#000000\" stroke=\"#000000\" points=\"717.5001,-316.298 714,-306.2981 710.5001,-316.2981 717.5001,-316.298\"/>\n",
       "</g>\n",
       "<!-- 22 -->\n",
       "<g id=\"node24\" class=\"node\">\n",
       "<title>22</title>\n",
       "<path fill=\"#e68743\" stroke=\"#000000\" d=\"M912,-298.5C912,-298.5 808,-298.5 808,-298.5 802,-298.5 796,-292.5 796,-286.5 796,-286.5 796,-242.5 796,-242.5 796,-236.5 802,-230.5 808,-230.5 808,-230.5 912,-230.5 912,-230.5 918,-230.5 924,-236.5 924,-242.5 924,-242.5 924,-286.5 924,-286.5 924,-292.5 918,-298.5 912,-298.5\"/>\n",
       "<text text-anchor=\"middle\" x=\"860\" y=\"-283.3\" font-family=\"Helvetica,sans-Serif\" font-size=\"14.00\" fill=\"#000000\">gini = 0.091</text>\n",
       "<text text-anchor=\"middle\" x=\"860\" y=\"-268.3\" font-family=\"Helvetica,sans-Serif\" font-size=\"14.00\" fill=\"#000000\">samples = 1541</text>\n",
       "<text text-anchor=\"middle\" x=\"860\" y=\"-253.3\" font-family=\"Helvetica,sans-Serif\" font-size=\"14.00\" fill=\"#000000\">value = [1467, 74]</text>\n",
       "<text text-anchor=\"middle\" x=\"860\" y=\"-238.3\" font-family=\"Helvetica,sans-Serif\" font-size=\"14.00\" fill=\"#000000\">class = b</text>\n",
       "</g>\n",
       "<!-- 8&#45;&gt;22 -->\n",
       "<g id=\"edge23\" class=\"edge\">\n",
       "<title>8&#45;&gt;22</title>\n",
       "<path fill=\"none\" stroke=\"#000000\" d=\"M765.0637,-341.8796C779.634,-330.0038 795.4896,-317.0804 809.9958,-305.2568\"/>\n",
       "<polygon fill=\"#000000\" stroke=\"#000000\" points=\"812.3592,-307.8459 817.8993,-298.8149 807.9366,-302.4199 812.3592,-307.8459\"/>\n",
       "</g>\n",
       "<!-- 23 -->\n",
       "<g id=\"node22\" class=\"node\">\n",
       "<title>23</title>\n",
       "<path fill=\"#e5833d\" stroke=\"#000000\" d=\"M756.5,-179.5C756.5,-179.5 667.5,-179.5 667.5,-179.5 661.5,-179.5 655.5,-173.5 655.5,-167.5 655.5,-167.5 655.5,-123.5 655.5,-123.5 655.5,-117.5 661.5,-111.5 667.5,-111.5 667.5,-111.5 756.5,-111.5 756.5,-111.5 762.5,-111.5 768.5,-117.5 768.5,-123.5 768.5,-123.5 768.5,-167.5 768.5,-167.5 768.5,-173.5 762.5,-179.5 756.5,-179.5\"/>\n",
       "<text text-anchor=\"middle\" x=\"712\" y=\"-164.3\" font-family=\"Helvetica,sans-Serif\" font-size=\"14.00\" fill=\"#000000\">gini = 0.036</text>\n",
       "<text text-anchor=\"middle\" x=\"712\" y=\"-149.3\" font-family=\"Helvetica,sans-Serif\" font-size=\"14.00\" fill=\"#000000\">samples = 218</text>\n",
       "<text text-anchor=\"middle\" x=\"712\" y=\"-134.3\" font-family=\"Helvetica,sans-Serif\" font-size=\"14.00\" fill=\"#000000\">value = [214, 4]</text>\n",
       "<text text-anchor=\"middle\" x=\"712\" y=\"-119.3\" font-family=\"Helvetica,sans-Serif\" font-size=\"14.00\" fill=\"#000000\">class = b</text>\n",
       "</g>\n",
       "<!-- 21&#45;&gt;23 -->\n",
       "<g id=\"edge21\" class=\"edge\">\n",
       "<title>21&#45;&gt;23</title>\n",
       "<path fill=\"none\" stroke=\"#000000\" d=\"M713.3005,-222.8796C713.1212,-212.2134 712.9278,-200.7021 712.7462,-189.9015\"/>\n",
       "<polygon fill=\"#000000\" stroke=\"#000000\" points=\"716.2444,-189.7547 712.5767,-179.8149 709.2454,-189.8724 716.2444,-189.7547\"/>\n",
       "</g>\n",
       "<!-- 24 -->\n",
       "<g id=\"node23\" class=\"node\">\n",
       "<title>24</title>\n",
       "<path fill=\"#eca26d\" stroke=\"#000000\" d=\"M903,-179.5C903,-179.5 799,-179.5 799,-179.5 793,-179.5 787,-173.5 787,-167.5 787,-167.5 787,-123.5 787,-123.5 787,-117.5 793,-111.5 799,-111.5 799,-111.5 903,-111.5 903,-111.5 909,-111.5 915,-117.5 915,-123.5 915,-123.5 915,-167.5 915,-167.5 915,-173.5 909,-179.5 903,-179.5\"/>\n",
       "<text text-anchor=\"middle\" x=\"851\" y=\"-164.3\" font-family=\"Helvetica,sans-Serif\" font-size=\"14.00\" fill=\"#000000\">gini = 0.329</text>\n",
       "<text text-anchor=\"middle\" x=\"851\" y=\"-149.3\" font-family=\"Helvetica,sans-Serif\" font-size=\"14.00\" fill=\"#000000\">samples = 568</text>\n",
       "<text text-anchor=\"middle\" x=\"851\" y=\"-134.3\" font-family=\"Helvetica,sans-Serif\" font-size=\"14.00\" fill=\"#000000\">value = [450, 118]</text>\n",
       "<text text-anchor=\"middle\" x=\"851\" y=\"-119.3\" font-family=\"Helvetica,sans-Serif\" font-size=\"14.00\" fill=\"#000000\">class = b</text>\n",
       "</g>\n",
       "<!-- 21&#45;&gt;24 -->\n",
       "<g id=\"edge22\" class=\"edge\">\n",
       "<title>21&#45;&gt;24</title>\n",
       "<path fill=\"none\" stroke=\"#000000\" d=\"M761.916,-222.8796C775.4615,-211.1138 790.1908,-198.3197 803.6998,-186.5855\"/>\n",
       "<polygon fill=\"#000000\" stroke=\"#000000\" points=\"806.2401,-189.015 811.4946,-179.8149 801.6497,-183.7303 806.2401,-189.015\"/>\n",
       "</g>\n",
       "<!-- 19 -->\n",
       "<g id=\"node26\" class=\"node\">\n",
       "<title>19</title>\n",
       "<path fill=\"#9dcff2\" stroke=\"#000000\" d=\"M901.5,-417.5C901.5,-417.5 812.5,-417.5 812.5,-417.5 806.5,-417.5 800.5,-411.5 800.5,-405.5 800.5,-405.5 800.5,-361.5 800.5,-361.5 800.5,-355.5 806.5,-349.5 812.5,-349.5 812.5,-349.5 901.5,-349.5 901.5,-349.5 907.5,-349.5 913.5,-355.5 913.5,-361.5 913.5,-361.5 913.5,-405.5 913.5,-405.5 913.5,-411.5 907.5,-417.5 901.5,-417.5\"/>\n",
       "<text text-anchor=\"middle\" x=\"857\" y=\"-402.3\" font-family=\"Helvetica,sans-Serif\" font-size=\"14.00\" fill=\"#000000\">gini = 0.446</text>\n",
       "<text text-anchor=\"middle\" x=\"857\" y=\"-387.3\" font-family=\"Helvetica,sans-Serif\" font-size=\"14.00\" fill=\"#000000\">samples = 122</text>\n",
       "<text text-anchor=\"middle\" x=\"857\" y=\"-372.3\" font-family=\"Helvetica,sans-Serif\" font-size=\"14.00\" fill=\"#000000\">value = [41, 81]</text>\n",
       "<text text-anchor=\"middle\" x=\"857\" y=\"-357.3\" font-family=\"Helvetica,sans-Serif\" font-size=\"14.00\" fill=\"#000000\">class = o</text>\n",
       "</g>\n",
       "<!-- 4&#45;&gt;19 -->\n",
       "<g id=\"edge25\" class=\"edge\">\n",
       "<title>4&#45;&gt;19</title>\n",
       "<path fill=\"none\" stroke=\"#000000\" d=\"M857,-460.8796C857,-450.2134 857,-438.7021 857,-427.9015\"/>\n",
       "<polygon fill=\"#000000\" stroke=\"#000000\" points=\"860.5001,-427.8149 857,-417.8149 853.5001,-427.815 860.5001,-427.8149\"/>\n",
       "</g>\n",
       "<!-- 20 -->\n",
       "<g id=\"node27\" class=\"node\">\n",
       "<title>20</title>\n",
       "<path fill=\"#43a2e6\" stroke=\"#000000\" d=\"M1040,-417.5C1040,-417.5 944,-417.5 944,-417.5 938,-417.5 932,-411.5 932,-405.5 932,-405.5 932,-361.5 932,-361.5 932,-355.5 938,-349.5 944,-349.5 944,-349.5 1040,-349.5 1040,-349.5 1046,-349.5 1052,-355.5 1052,-361.5 1052,-361.5 1052,-405.5 1052,-405.5 1052,-411.5 1046,-417.5 1040,-417.5\"/>\n",
       "<text text-anchor=\"middle\" x=\"992\" y=\"-402.3\" font-family=\"Helvetica,sans-Serif\" font-size=\"14.00\" fill=\"#000000\">gini = 0.087</text>\n",
       "<text text-anchor=\"middle\" x=\"992\" y=\"-387.3\" font-family=\"Helvetica,sans-Serif\" font-size=\"14.00\" fill=\"#000000\">samples = 349</text>\n",
       "<text text-anchor=\"middle\" x=\"992\" y=\"-372.3\" font-family=\"Helvetica,sans-Serif\" font-size=\"14.00\" fill=\"#000000\">value = [16, 333]</text>\n",
       "<text text-anchor=\"middle\" x=\"992\" y=\"-357.3\" font-family=\"Helvetica,sans-Serif\" font-size=\"14.00\" fill=\"#000000\">class = o</text>\n",
       "</g>\n",
       "<!-- 4&#45;&gt;20 -->\n",
       "<g id=\"edge26\" class=\"edge\">\n",
       "<title>4&#45;&gt;20</title>\n",
       "<path fill=\"none\" stroke=\"#000000\" d=\"M904.2164,-460.8796C917.5642,-449.1138 932.0785,-436.3197 945.3904,-424.5855\"/>\n",
       "<polygon fill=\"#000000\" stroke=\"#000000\" points=\"947.884,-427.0531 953.0713,-417.8149 943.2552,-421.8019 947.884,-427.0531\"/>\n",
       "</g>\n",
       "</g>\n",
       "</svg>\n"
      ],
      "text/plain": [
       "<graphviz.sources.Source at 0x7f823baeadd0>"
      ]
     },
     "execution_count": 136,
     "metadata": {},
     "output_type": "execute_result"
    }
   ],
   "source": [
    "dot_data = export_graphviz(final_model, out_file = None,feature_names=[\"x\",\"y\"],class_names = [\"b\",\"o\"],rounded = True, filled=True)\n",
    "graph = graphviz.Source(dot_data)\n",
    "graph"
   ]
  },
  {
   "cell_type": "markdown",
   "metadata": {},
   "source": [
    "#### Grow a forest"
   ]
  },
  {
   "cell_type": "code",
   "execution_count": 137,
   "metadata": {},
   "outputs": [],
   "source": [
    "from sklearn.model_selection import ShuffleSplit\n",
    "\n",
    "n_trees = 1000\n",
    "n_instances = 100\n",
    "\n",
    "mini_sets = []\n",
    "\n",
    "rs = ShuffleSplit(n_splits=n_trees, test_size=len(X_train) - n_instances, random_state=42)\n",
    "for mini_train_index, mini_test_index in rs.split(X_train):\n",
    "    X_mini_train = X_train[mini_train_index]\n",
    "    y_mini_train = y_train[mini_train_index]\n",
    "    mini_sets.append((X_mini_train, y_mini_train))"
   ]
  },
  {
   "cell_type": "code",
   "execution_count": 144,
   "metadata": {},
   "outputs": [
    {
     "data": {
      "text/plain": [
       "1000"
      ]
     },
     "execution_count": 144,
     "metadata": {},
     "output_type": "execute_result"
    }
   ],
   "source": [
    "len(mini_sets)"
   ]
  },
  {
   "cell_type": "code",
   "execution_count": 147,
   "metadata": {},
   "outputs": [
    {
     "data": {
      "text/plain": [
       "(100, 2)"
      ]
     },
     "execution_count": 147,
     "metadata": {},
     "output_type": "execute_result"
    }
   ],
   "source": [
    "mini_sets[0][0].shape"
   ]
  },
  {
   "cell_type": "code",
   "execution_count": 148,
   "metadata": {},
   "outputs": [
    {
     "data": {
      "text/plain": [
       "(100,)"
      ]
     },
     "execution_count": 148,
     "metadata": {},
     "output_type": "execute_result"
    }
   ],
   "source": [
    "mini_sets[0][1].shape"
   ]
  },
  {
   "cell_type": "code",
   "execution_count": 203,
   "metadata": {},
   "outputs": [],
   "source": [
    "Xtoy = np.concatenate((np.array(range(100)).reshape(100,1), 2*np.array(range(100)).reshape(100,1)),axis = 1)\n",
    "ytoy = np.array(range(100))*0.1"
   ]
  },
  {
   "cell_type": "code",
   "execution_count": 216,
   "metadata": {},
   "outputs": [],
   "source": [
    "rs_toy = ShuffleSplit(n_splits = 5, test_size = 100-10,random_state = 42)"
   ]
  },
  {
   "cell_type": "code",
   "execution_count": 217,
   "metadata": {},
   "outputs": [
    {
     "name": "stdout",
     "output_type": "stream",
     "text": [
      "[9.1 7.4 8.6 8.2 2.  6.  7.1 1.4 9.2 5.1]\n",
      "[7.2 0.6 2.7 4.  0.4 3.2 9.7 3.4 0.7 8. ]\n",
      "[6.9 3.1 8.9 4.3 5.2 0.1 1.8 0.  9.6 9.5]\n",
      "[2.6 0.7 5.3 5.  3.7 2.9 2.1 8.5 5.8 7.5]\n",
      "[3.9 5.4 4.6 9.3 0.5 6.7 0.4 5.9 5.2 0.7]\n"
     ]
    }
   ],
   "source": [
    "for train_index, test_index in rs_toy.split(Xtoy):\n",
    "    #print(\"TRAIN:\", train_index, \"TEST:\", test_index)\n",
    "    #print(Xtoy[train_index])\n",
    "    print(ytoy[train_index])"
   ]
  },
  {
   "cell_type": "code",
   "execution_count": 163,
   "metadata": {},
   "outputs": [
    {
     "data": {
      "text/plain": [
       "0.8001064999999999"
      ]
     },
     "execution_count": 163,
     "metadata": {},
     "output_type": "execute_result"
    }
   ],
   "source": [
    "from sklearn.base import clone\n",
    "\n",
    "forest = [clone(grid_search.best_estimator_) for _ in range(n_trees)]\n",
    "\n",
    "accuracy_scores = []\n",
    "\n",
    "for tree, (X_mini_train, y_mini_train) in zip(forest, mini_sets):\n",
    "    tree.fit(X_mini_train, y_mini_train)\n",
    "    \n",
    "    y_pred = tree.predict(X_test)\n",
    "    accuracy_scores.append(accuracy_score(y_test, y_pred))\n",
    "\n",
    "np.mean(accuracy_scores)"
   ]
  },
  {
   "cell_type": "code",
   "execution_count": 164,
   "metadata": {},
   "outputs": [],
   "source": [
    "Y_pred = np.empty([n_trees, len(X_test)], dtype=np.uint8)\n",
    "\n",
    "for tree_index, tree in enumerate(forest):\n",
    "    Y_pred[tree_index] = tree.predict(X_test)"
   ]
  },
  {
   "cell_type": "code",
   "execution_count": 165,
   "metadata": {},
   "outputs": [],
   "source": [
    "from scipy.stats import mode\n",
    "\n",
    "y_pred_majority_votes, n_votes = mode(Y_pred, axis=0)"
   ]
  },
  {
   "cell_type": "code",
   "execution_count": 168,
   "metadata": {},
   "outputs": [
    {
     "data": {
      "text/plain": [
       "0.86"
      ]
     },
     "execution_count": 168,
     "metadata": {},
     "output_type": "execute_result"
    }
   ],
   "source": [
    "accuracy_score(y_pred_majority_votes.reshape(-1),y_test)"
   ]
  },
  {
   "cell_type": "code",
   "execution_count": null,
   "metadata": {},
   "outputs": [],
   "source": []
  }
 ],
 "metadata": {
  "kernelspec": {
   "display_name": "Python 3 (ipykernel)",
   "language": "python",
   "name": "python3"
  },
  "language_info": {
   "codemirror_mode": {
    "name": "ipython",
    "version": 3
   },
   "file_extension": ".py",
   "mimetype": "text/x-python",
   "name": "python",
   "nbconvert_exporter": "python",
   "pygments_lexer": "ipython3",
   "version": "3.11.6"
  }
 },
 "nbformat": 4,
 "nbformat_minor": 4
}
